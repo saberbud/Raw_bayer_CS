{
 "cells": [
  {
   "cell_type": "code",
   "execution_count": 1,
   "metadata": {},
   "outputs": [],
   "source": [
    "import numpy as np\n",
    "import tensorflow as tf\n",
    "import h5py\n",
    "import matplotlib.pyplot as plt\n",
    "import matplotlib as mpl\n",
    "import skimage\n",
    "from PIL import Image\n",
    "from skimage.measure import compare_ssim,compare_psnr\n",
    "np.random.seed(73)"
   ]
  },
  {
   "cell_type": "code",
   "execution_count": 2,
   "metadata": {},
   "outputs": [],
   "source": [
    "def compression(Data_in, code_in, stride_size, Q_scale, Q_type):\n",
    "    compW = tf.constant(code_in)\n",
    "\n",
    "    comp = tf.nn.conv2d(Data_in, compW, strides=[1, stride_size, stride_size, 1], padding='VALID')\n",
    "    print(comp)\n",
    "\n",
    "    compm = comp*Q_scale\n",
    "    print(compm)\n",
    "\n",
    "    compint = tf.cast(compm,Q_type)\n",
    "    print(compint)\n",
    "    \n",
    "    return compint"
   ]
  },
  {
   "cell_type": "code",
   "execution_count": 3,
   "metadata": {},
   "outputs": [
    {
     "name": "stdout",
     "output_type": "stream",
     "text": [
      "code shape: (16, 16, 1, 4)\n"
     ]
    }
   ],
   "source": [
    "block_size = 16\n",
    "stride_size = 16\n",
    "ncomp=4\n",
    "\n",
    "Q_scale=1./2.\n",
    "\n",
    "nrfs=10\n",
    "Nx=2048\n",
    "Ny=3840\n",
    "NC = 1\n",
    "\n",
    "#The 4 [16, 16] \"masks\" are stored in code[:,:,0,i] i=0,1,2,3\n",
    "f_code=h5py.File('./code_16164_1x64_mix_4bit.h5','r')\n",
    "code=f_code['data'][:]\n",
    "code=code.astype(np.float32)\n",
    "print(\"code shape: \" + str(code.shape))"
   ]
  },
  {
   "cell_type": "code",
   "execution_count": 4,
   "metadata": {},
   "outputs": [
    {
     "name": "stdout",
     "output_type": "stream",
     "text": [
      "Tensor(\"DATA/Placeholder:0\", shape=(?, 2048, 3840, 1), dtype=float32)\n"
     ]
    }
   ],
   "source": [
    "with tf.name_scope('DATA'):\n",
    "    Data_in = tf.placeholder(tf.float32,shape=[None,Nx,Ny,NC])\n",
    "    print(Data_in)"
   ]
  },
  {
   "cell_type": "code",
   "execution_count": 5,
   "metadata": {},
   "outputs": [
    {
     "name": "stdout",
     "output_type": "stream",
     "text": [
      "Tensor(\"Conv2D:0\", shape=(?, 128, 240, 4), dtype=float32)\n",
      "Tensor(\"mul:0\", shape=(?, 128, 240, 4), dtype=float32)\n",
      "Tensor(\"Cast:0\", shape=(?, 128, 240, 4), dtype=int8)\n",
      "Tensor(\"Cast:0\", shape=(?, 128, 240, 4), dtype=int8)\n"
     ]
    }
   ],
   "source": [
    "comp_o=compression(Data_in, code, stride_size, Q_scale, tf.int8) #Note the output data type is signed 8-bit integer \n",
    "print(comp_o)"
   ]
  },
  {
   "cell_type": "code",
   "execution_count": 6,
   "metadata": {},
   "outputs": [],
   "source": [
    "def read_raw_data(fname):\n",
    "    xs=0; ys=0\n",
    "    xe=xs+2048; ye=ys+3840 #We choose only this range for test, you can change after you got familiar with the process\n",
    "    pop=np.fromfile(fname,dtype=np.dtype('i2')) #Read .raw data\n",
    "    pop=pop[0:3864*2174]\n",
    "    \n",
    "    pop=np.reshape(pop,(2174,3864))\n",
    "    #pop=np.rot90(pop,k=2)  #For 1, 2, comment out if running 3, for exactly reproducing paper result\n",
    "    \n",
    "    pop=pop[xs:xe,ys:ye]\n",
    "    pop=np.rot90(pop,k=2)  #For 3, comment out if running 1, 2, for exactly reproducing paper result\n",
    "    \n",
    "    #Divide by (2^14-1) so data_f has values between 0 and 1. You can do this overall division after Conv2D as well\n",
    "    pop=pop/(np.power(2,14)-1.) \n",
    "    data_f=np.zeros([1,2048,3840,1])\n",
    "    data_f[0,:,:,0]=pop\n",
    "    \n",
    "    return data_f"
   ]
  },
  {
   "cell_type": "code",
   "execution_count": 7,
   "metadata": {},
   "outputs": [],
   "source": [
    "fileName='../Example_raw_bayer_data/3.raw'\n",
    "data_in = read_raw_data(fileName)"
   ]
  },
  {
   "cell_type": "code",
   "execution_count": 8,
   "metadata": {},
   "outputs": [
    {
     "name": "stdout",
     "output_type": "stream",
     "text": [
      "data_in shape= (1, 2048, 3840, 1) , max= 0.9999389611182323 , min= 0.06543368125495941 , mean= 0.19129893962974437\n"
     ]
    }
   ],
   "source": [
    "print(\"data_in shape= \" + str(data_in.shape) + \" , max= \" + str(np.max(data_in)) \n",
    "      + \" , min= \" + str(np.min(data_in)) + \" , mean= \" + str(np.mean(data_in)))"
   ]
  },
  {
   "cell_type": "code",
   "execution_count": 9,
   "metadata": {},
   "outputs": [],
   "source": [
    "with tf.Session() as sess:\n",
    "    comp_out=sess.run(comp_o,feed_dict={Data_in:data_in})"
   ]
  },
  {
   "cell_type": "code",
   "execution_count": 10,
   "metadata": {},
   "outputs": [
    {
     "name": "stdout",
     "output_type": "stream",
     "text": [
      "comp_out shape= (1, 128, 240, 4) , type= int8 , max= 81 , min= -5 , mean= 14.727685546875\n"
     ]
    }
   ],
   "source": [
    "#comp_out is the output array of compression, in format signed 8-bit integer\n",
    "print(\"comp_out shape= \" + str(comp_out.shape) + \" , type= \" + str(comp_out.dtype) + \" , max= \" + str(np.max(comp_out)) \n",
    "      + \" , min= \" + str(np.min(comp_out)) + \" , mean= \" + str(np.mean(comp_out)))"
   ]
  },
  {
   "cell_type": "code",
   "execution_count": 11,
   "metadata": {},
   "outputs": [
    {
     "name": "stdout",
     "output_type": "stream",
     "text": [
      "comp_u8 shape= (1, 128, 240, 4) , type= uint8 , max= 209 , min= 123 , mean= 142.727685546875\n"
     ]
    }
   ],
   "source": [
    "#Purely for storing in PNG files, add 128 to comp_out and put the values in unsigned 8-bit integers.\n",
    "#When doing decompression, this 128 will be subtracted.\n",
    "#If you choose another format to store the data and not adding 128 here, you need to do corresponding changes for decompression.\n",
    "comp_u8 = comp_out + 128\n",
    "comp_u8 = comp_u8.astype(np.uint8)\n",
    "print(\"comp_u8 shape= \" + str(comp_u8.shape) + \" , type= \" + str(comp_u8.dtype) + \" , max= \" + str(np.max(comp_u8)) \n",
    "      + \" , min= \" + str(np.min(comp_u8)) + \" , mean= \" + str(np.mean(comp_u8)))"
   ]
  },
  {
   "cell_type": "code",
   "execution_count": 12,
   "metadata": {},
   "outputs": [
    {
     "data": {
      "text/plain": [
       "0.0"
      ]
     },
     "execution_count": 12,
     "metadata": {},
     "output_type": "execute_result"
    }
   ],
   "source": [
    "#Just a check\n",
    "np.mean(np.square(comp_u8-128-comp_out))"
   ]
  },
  {
   "cell_type": "code",
   "execution_count": 13,
   "metadata": {},
   "outputs": [],
   "source": [
    "def trans_PNG(data,iname): #Save data as PNG file\n",
    "    im = Image.fromarray(data)\n",
    "    im.save(iname,compress_level=0)"
   ]
  },
  {
   "cell_type": "code",
   "execution_count": 14,
   "metadata": {},
   "outputs": [
    {
     "name": "stdout",
     "output_type": "stream",
     "text": [
      "./PNG_out/F1_0.png\n",
      "./PNG_out/F1_1.png\n",
      "./PNG_out/F1_2.png\n",
      "./PNG_out/F1_3.png\n"
     ]
    }
   ],
   "source": [
    "i = 1\n",
    "for j in range(4): #Store the convolutioin results using the \"4 masks\" separately in 4 PNG files\n",
    "    imname = \"./PNG_out/F\" + str(i) + \"_\" + str(j) + \".png\"\n",
    "    print(imname)\n",
    "    trans_PNG(comp_u8[0,:,:,j],imname)"
   ]
  },
  {
   "cell_type": "code",
   "execution_count": 15,
   "metadata": {},
   "outputs": [
    {
     "name": "stdout",
     "output_type": "stream",
     "text": [
      "./PNG_out/F1_0.png\n",
      "  mse= 0.0 , png shape: (128, 240)\n",
      "./PNG_out/F1_1.png\n",
      "  mse= 0.0 , png shape: (128, 240)\n",
      "./PNG_out/F1_2.png\n",
      "  mse= 0.0 , png shape: (128, 240)\n",
      "./PNG_out/F1_3.png\n",
      "  mse= 0.0 , png shape: (128, 240)\n"
     ]
    }
   ],
   "source": [
    "#Just a check\n",
    "i = 1\n",
    "for j in range(4):\n",
    "    imname = \"./PNG_out/F\" + str(i) + \"_\" + str(j) + \".png\"\n",
    "    print(imname)\n",
    "    tim=Image.open(imname)\n",
    "    tima=np.array(tim)\n",
    "    mse=np.mean(np.square(tima-comp_u8[0,:,:,j]))\n",
    "    print(\"  mse= \" + str(mse) + \" , png shape: \" + str(tima.shape))"
   ]
  },
  {
   "cell_type": "code",
   "execution_count": 16,
   "metadata": {},
   "outputs": [],
   "source": [
    "def write_hdf5(x,filename):\n",
    "    with h5py.File(filename, 'w') as h:\n",
    "        h.create_dataset('data', data=x, shape=x.shape)"
   ]
  },
  {
   "cell_type": "code",
   "execution_count": 17,
   "metadata": {},
   "outputs": [],
   "source": [
    "write_hdf5(data_in,'image_orig.h5')"
   ]
  },
  {
   "cell_type": "code",
   "execution_count": null,
   "metadata": {},
   "outputs": [],
   "source": []
  }
 ],
 "metadata": {
  "kernelspec": {
   "display_name": "Python 3",
   "language": "python",
   "name": "python3"
  },
  "language_info": {
   "codemirror_mode": {
    "name": "ipython",
    "version": 3
   },
   "file_extension": ".py",
   "mimetype": "text/x-python",
   "name": "python",
   "nbconvert_exporter": "python",
   "pygments_lexer": "ipython3",
   "version": "3.6.5"
  }
 },
 "nbformat": 4,
 "nbformat_minor": 2
}
