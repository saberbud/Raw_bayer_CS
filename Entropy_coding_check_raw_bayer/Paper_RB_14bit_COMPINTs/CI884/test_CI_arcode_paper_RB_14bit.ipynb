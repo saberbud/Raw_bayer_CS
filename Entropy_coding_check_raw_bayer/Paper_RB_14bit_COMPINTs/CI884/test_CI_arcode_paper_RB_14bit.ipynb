{
 "cells": [
  {
   "cell_type": "code",
   "execution_count": 1,
   "metadata": {},
   "outputs": [],
   "source": [
    "import numpy as np\n",
    "import arcode\n",
    "import codec\n",
    "import os\n",
    "import matplotlib.pyplot as plt\n",
    "import matplotlib as mpl\n",
    "import skimage\n",
    "from PIL import Image"
   ]
  },
  {
   "cell_type": "code",
   "execution_count": 2,
   "metadata": {},
   "outputs": [],
   "source": [
    "def show_data(x_in, pre_in):\n",
    "    mean = np.mean(x_in)\n",
    "    std = np.std(x_in)\n",
    "    Max = np.max(x_in)\n",
    "    Min = np.min(x_in)\n",
    "    dtype = x_in.dtype\n",
    "    \n",
    "    print(pre_in + ' shape: ' + str(x_in.shape) + ' , mean = ' + str(mean) \n",
    "          + ' , std = ' + str(std) + ' , Max = ' + str(Max) + ' , Min = ' + str(Min) \n",
    "          + ' , type=' + str(dtype))"
   ]
  },
  {
   "cell_type": "code",
   "execution_count": 3,
   "metadata": {},
   "outputs": [],
   "source": [
    "def oc_fname(i_in):\n",
    "    rname = '/f00' + str(i_in) + '.png'\n",
    "    if i_in >9: rname = '/f0' + str(i_in) + '.png'\n",
    "    if i_in >99: rname = '/f' + str(i_in) + '.png'\n",
    "        \n",
    "    return rname"
   ]
  },
  {
   "cell_type": "code",
   "execution_count": 4,
   "metadata": {},
   "outputs": [],
   "source": [
    "def read_COMPINT(prefC, cname):\n",
    "    o4=np.zeros([1, nx, ny, ncomp])\n",
    "    for k in range(ncomp):\n",
    "        inname = prefC + str(k) + cname\n",
    "        #print(\"  read_COMPINT: \" + inname)\n",
    "        tim=Image.open(inname)\n",
    "        tima=np.array(tim)\n",
    "        o4[0,:,:,k] = tima\n",
    "                \n",
    "    return o4"
   ]
  },
  {
   "cell_type": "code",
   "execution_count": 5,
   "metadata": {},
   "outputs": [],
   "source": [
    "def ar_code(x_in, oname):\n",
    "    img = x_in.flatten()\n",
    "    olen = len(img)\n",
    "    img = img.reshape(olen,1,1)\n",
    "    \n",
    "    bits = codec.bitstream(dat=img)\n",
    "    bits.h = img.shape[0]\n",
    "    bits.w = img.shape[1]\n",
    "    bits.c = img.shape[2]\n",
    "    entro_coder = codec.entropy_codec(Mode='Arith')\n",
    "    entro_coder.encode(bits, oname)\n",
    "    \n",
    "    size1= os.path.getsize(oname + 'dat')\n",
    "    size2= os.path.getsize(oname + 'arith')\n",
    "\n",
    "    #olen, size1, size2 in unit of Byte (assuming input is 8bit int)\n",
    "    return olen, size1, size2"
   ]
  },
  {
   "cell_type": "code",
   "execution_count": 6,
   "metadata": {},
   "outputs": [
    {
     "data": {
      "text/plain": [
       "\"\\npref = './Paper_RB_14bit_COMPINTs/CI32324/COMPINT'\\nnx=64\\nny=120\\nncomp=4\\n\""
      ]
     },
     "execution_count": 6,
     "metadata": {},
     "output_type": "execute_result"
    }
   ],
   "source": [
    "\n",
    "pref = './Paper_RB_14bit_COMPINTs/CI884/COMPINT'\n",
    "nx=256\n",
    "ny=480\n",
    "ncomp=4\n",
    "\n",
    "\n",
    "'''\n",
    "pref = './Paper_RB_14bit_COMPINTs/CI16164/COMPINT'\n",
    "nx=128\n",
    "ny=240\n",
    "ncomp=4\n",
    "'''\n",
    "\n",
    "'''\n",
    "pref = './Paper_RB_14bit_COMPINTs/CI32324/COMPINT'\n",
    "nx=64\n",
    "ny=120\n",
    "ncomp=4\n",
    "'''"
   ]
  },
  {
   "cell_type": "code",
   "execution_count": 7,
   "metadata": {},
   "outputs": [
    {
     "name": "stdout",
     "output_type": "stream",
     "text": [
      "t_C shape: (1, 256, 480, 4) , mean = 136.03014119466147 , std = 13.346571933553763 , Max = 214.0 , Min = 44.0 , type=float64\n",
      "t_C_0 shape: (1, 256, 480) , mean = 115.9767333984375 , std = 4.452235365070101 , Max = 122.0 , Min = 44.0 , type=float64\n",
      "t_C_1 shape: (1, 256, 480) , mean = 142.29813639322916 , std = 5.751094476080457 , Max = 214.0 , Min = 130.0 , type=float64\n",
      "t_C_2 shape: (1, 256, 480) , mean = 146.55380045572917 , std = 8.345470486819782 , Max = 205.0 , Min = 135.0 , type=float64\n",
      "t_C_3 shape: (1, 256, 480) , mean = 139.29189453125 , std = 5.2121202329003955 , Max = 186.0 , Min = 132.0 , type=float64\n"
     ]
    }
   ],
   "source": [
    "i_f = 3\n",
    "t_C = read_COMPINT(pref, oc_fname(i_f))\n",
    "\n",
    "show_data(t_C, 't_C')\n",
    "for i in range(4):\n",
    "    show_data(t_C[...,i], 't_C_'+str(i))"
   ]
  },
  {
   "cell_type": "code",
   "execution_count": 8,
   "metadata": {},
   "outputs": [
    {
     "name": "stdout",
     "output_type": "stream",
     "text": [
      "data_t shape: (256, 480) , mean = 11.29189453125 , std = 5.212120232900396 , Max = 58 , Min = 4 , type=int8\n"
     ]
    }
   ],
   "source": [
    "idc = 3\n",
    "data_t = t_C[0,:,:,idc]\n",
    "data_t = data_t - 128.0\n",
    "data_t = data_t.astype(np.int8)\n",
    "show_data(data_t, 'data_t')"
   ]
  },
  {
   "cell_type": "code",
   "execution_count": 9,
   "metadata": {},
   "outputs": [
    {
     "name": "stdout",
     "output_type": "stream",
     "text": [
      "olen122880\n",
      "size1122892\n",
      "size256602\n",
      "ratio1= 1.00009765625\n",
      "ratio2= 0.460628255208\n"
     ]
    }
   ],
   "source": [
    "oname = 'fAc'\n",
    "olen, size1, size2 = ar_code(data_t, oname)\n",
    "\n",
    "print('olen' + str(olen))\n",
    "print('size1' + str(size1))\n",
    "print('size2' + str(size2))\n",
    "\n",
    "ratio1 = float(size1)/float(olen)\n",
    "ratio2 = float(size2)/float(olen)\n",
    "\n",
    "print('ratio1= ' + str(ratio1))\n",
    "print('ratio2= ' + str(ratio2))"
   ]
  },
  {
   "cell_type": "code",
   "execution_count": 10,
   "metadata": {
    "scrolled": true
   },
   "outputs": [
    {
     "name": "stdout",
     "output_type": "stream",
     "text": [
      "1\n",
      "  t_C shape: (1, 256, 480, 4) , mean = 140.19452107747395 , std = 19.08002197207108 , Max = 200.0 , Min = 72.0 , type=float64\n",
      " channel0 shape: (256, 480) , mean = -15.6963134765625 , std = 6.5970496347612295 , Max = -2 , Min = -56 , type=int8\n",
      "   olen: 122880 Bytes\n",
      "   size1: 122892 Bytes\n",
      "   size2: 54317 Bytes\n",
      "ratio1= 1.00009765625\n",
      "ratio2= 0.442032877604\n",
      " channel1 shape: (256, 480) , mean = 20.880891927083333 , std = 9.547012552816339 , Max = 72 , Min = 0 , type=int8\n",
      "   olen: 122880 Bytes\n",
      "   size1: 122892 Bytes\n",
      "   size2: 62744 Bytes\n",
      "ratio1= 1.00009765625\n",
      "ratio2= 0.510611979167\n",
      " channel2 shape: (256, 480) , mean = 23.457877604166665 , std = 13.192368638235616 , Max = 69 , Min = 0 , type=int8\n",
      "   olen: 122880 Bytes\n",
      "   size1: 122892 Bytes\n",
      "   size2: 67982 Bytes\n",
      "ratio1= 1.00009765625\n",
      "ratio2= 0.553238932292\n",
      " channel3 shape: (256, 480) , mean = 20.135628255208335 , std = 10.208221042443643 , Max = 60 , Min = 3 , type=int8\n",
      "   olen: 122880 Bytes\n",
      "   size1: 122892 Bytes\n",
      "   size2: 64809 Bytes\n",
      "ratio1= 1.00009765625\n",
      "ratio2= 0.527416992188\n",
      "\n",
      "\n",
      "2\n",
      "  t_C shape: (1, 256, 480, 4) , mean = 138.04151611328126 , std = 21.94977550914636 , Max = 209.0 , Min = 80.0 , type=float64\n",
      " channel0 shape: (256, 480) , mean = -14.4593505859375 , std = 11.423869438051032 , Max = 1 , Min = -48 , type=int8\n",
      "   olen: 122880 Bytes\n",
      "   size1: 122892 Bytes\n",
      "   size2: 57283 Bytes\n",
      "ratio1= 1.00009765625\n",
      "ratio2= 0.466170247396\n",
      " channel1 shape: (256, 480) , mean = 17.449641927083334 , std = 15.278747980307225 , Max = 72 , Min = -5 , type=int8\n",
      "   olen: 122880 Bytes\n",
      "   size1: 122892 Bytes\n",
      "   size2: 61723 Bytes\n",
      "ratio1= 1.00009765625\n",
      "ratio2= 0.502303059896\n",
      " channel2 shape: (256, 480) , mean = 22.947713216145832 , std = 22.725324490281505 , Max = 81 , Min = 3 , type=int8\n",
      "   olen: 122880 Bytes\n",
      "   size1: 122892 Bytes\n",
      "   size2: 69393 Bytes\n",
      "ratio1= 1.00009765625\n",
      "ratio2= 0.564721679687\n",
      " channel3 shape: (256, 480) , mean = 14.228059895833333 , std = 14.405394963293988 , Max = 51 , Min = 2 , type=int8\n",
      "   olen: 122880 Bytes\n",
      "   size1: 122892 Bytes\n",
      "   size2: 59364 Bytes\n",
      "ratio1= 1.00009765625\n",
      "ratio2= 0.48310546875\n",
      "\n",
      "\n",
      "3\n",
      "  t_C shape: (1, 256, 480, 4) , mean = 136.03014119466147 , std = 13.346571933553763 , Max = 214.0 , Min = 44.0 , type=float64\n",
      " channel0 shape: (256, 480) , mean = -12.0232666015625 , std = 4.452235365070101 , Max = -6 , Min = -84 , type=int8\n",
      "   olen: 122880 Bytes\n",
      "   size1: 122892 Bytes\n",
      "   size2: 51012 Bytes\n",
      "ratio1= 1.00009765625\n",
      "ratio2= 0.41513671875\n",
      " channel1 shape: (256, 480) , mean = 14.298136393229166 , std = 5.751094476080457 , Max = 86 , Min = 2 , type=int8\n",
      "   olen: 122880 Bytes\n",
      "   size1: 122892 Bytes\n",
      "   size2: 57837 Bytes\n",
      "ratio1= 1.00009765625\n",
      "ratio2= 0.470678710938\n",
      " channel2 shape: (256, 480) , mean = 18.553800455729167 , std = 8.345470486819782 , Max = 77 , Min = 7 , type=int8\n",
      "   olen: 122880 Bytes\n",
      "   size1: 122892 Bytes\n",
      "   size2: 65081 Bytes\n",
      "ratio1= 1.00009765625\n",
      "ratio2= 0.529630533854\n",
      " channel3 shape: (256, 480) , mean = 11.29189453125 , std = 5.212120232900396 , Max = 58 , Min = 4 , type=int8\n",
      "   olen: 122880 Bytes\n",
      "   size1: 122892 Bytes\n",
      "   size2: 56602 Bytes\n",
      "ratio1= 1.00009765625\n",
      "ratio2= 0.460628255208\n",
      "\n",
      "\n"
     ]
    }
   ],
   "source": [
    "fs = 1; fe = 4;\n",
    "nf = fe-fs\n",
    "size1s = np.zeros([nf,4])\n",
    "size2s = np.zeros([nf,4])\n",
    "olens = np.zeros([nf,4])\n",
    "\n",
    "for i in range(fs,fe):\n",
    "    print(i)\n",
    "    t_C = read_COMPINT(pref, oc_fname(i))\n",
    "    show_data(t_C, '  t_C')\n",
    "    \n",
    "    for idc in range(4):\n",
    "        data_t = t_C[0,:,:,idc]\n",
    "        data_t = data_t - 128.0\n",
    "        data_t = data_t.astype(np.int8)\n",
    "        show_data(data_t, ' channel'+str(idc))\n",
    "        olen, size1, size2 = ar_code(data_t, oname)\n",
    "\n",
    "        print('   olen: ' + str(olen) + ' Bytes')\n",
    "        print('   size1: ' + str(size1) + ' Bytes')\n",
    "        print('   size2: ' + str(size2) + ' Bytes')\n",
    "\n",
    "        ratio1 = float(size1)/float(olen)\n",
    "        ratio2 = float(size2)/float(olen)\n",
    "\n",
    "        print('ratio1= ' + str(ratio1))\n",
    "        print('ratio2= ' + str(ratio2))\n",
    "        \n",
    "        idx = i-fs\n",
    "        size1s[idx,idc] = size1\n",
    "        size2s[idx,idc] = size2\n",
    "        olens[idx,idc] = olen\n",
    "    \n",
    "    print('\\n')"
   ]
  },
  {
   "cell_type": "code",
   "execution_count": 11,
   "metadata": {},
   "outputs": [
    {
     "name": "stdout",
     "output_type": "stream",
     "text": [
      "1\n",
      "   ratio_1= 1.00009765625\n",
      "   ratio_2= 0.5083251953125\n",
      " \n",
      "2\n",
      "   ratio_1= 1.00009765625\n",
      "   ratio_2= 0.5040751139322917\n",
      " \n",
      "3\n",
      "   ratio_1= 1.00009765625\n",
      "   ratio_2= 0.4690185546875\n",
      " \n"
     ]
    }
   ],
   "source": [
    "for idx in range(nf):\n",
    "    print(idx+1)\n",
    "    \n",
    "    ratio_1 = np.mean(size1s[idx,:])/np.mean(olens[idx,:])\n",
    "    ratio_2 = np.mean(size2s[idx,:])/np.mean(olens[idx,:])\n",
    "\n",
    "    #print('   size_orig= ' + str(size_orig))\n",
    "    print('   ratio_1= ' + str(ratio_1))\n",
    "    print('   ratio_2= ' + str(ratio_2))\n",
    "    print(' ')"
   ]
  },
  {
   "cell_type": "code",
   "execution_count": null,
   "metadata": {},
   "outputs": [],
   "source": []
  }
 ],
 "metadata": {
  "kernelspec": {
   "display_name": "Python 2",
   "language": "python",
   "name": "python2"
  },
  "language_info": {
   "codemirror_mode": {
    "name": "ipython",
    "version": 2
   },
   "file_extension": ".py",
   "mimetype": "text/x-python",
   "name": "python",
   "nbconvert_exporter": "python",
   "pygments_lexer": "ipython2",
   "version": "2.7.15"
  }
 },
 "nbformat": 4,
 "nbformat_minor": 2
}
