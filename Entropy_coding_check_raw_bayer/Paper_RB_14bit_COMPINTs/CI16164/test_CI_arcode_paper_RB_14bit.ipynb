{
 "cells": [
  {
   "cell_type": "code",
   "execution_count": 1,
   "metadata": {},
   "outputs": [],
   "source": [
    "import numpy as np\n",
    "import arcode\n",
    "import codec\n",
    "import os\n",
    "import matplotlib.pyplot as plt\n",
    "import matplotlib as mpl\n",
    "import skimage\n",
    "from PIL import Image"
   ]
  },
  {
   "cell_type": "code",
   "execution_count": 2,
   "metadata": {},
   "outputs": [],
   "source": [
    "def show_data(x_in, pre_in):\n",
    "    mean = np.mean(x_in)\n",
    "    std = np.std(x_in)\n",
    "    Max = np.max(x_in)\n",
    "    Min = np.min(x_in)\n",
    "    dtype = x_in.dtype\n",
    "    \n",
    "    print(pre_in + ' shape: ' + str(x_in.shape) + ' , mean = ' + str(mean) \n",
    "          + ' , std = ' + str(std) + ' , Max = ' + str(Max) + ' , Min = ' + str(Min) \n",
    "          + ' , type=' + str(dtype))"
   ]
  },
  {
   "cell_type": "code",
   "execution_count": 3,
   "metadata": {},
   "outputs": [],
   "source": [
    "def oc_fname(i_in):\n",
    "    rname = '/f00' + str(i_in) + '.png'\n",
    "    if i_in >9: rname = '/f0' + str(i_in) + '.png'\n",
    "    if i_in >99: rname = '/f' + str(i_in) + '.png'\n",
    "        \n",
    "    return rname"
   ]
  },
  {
   "cell_type": "code",
   "execution_count": 4,
   "metadata": {},
   "outputs": [],
   "source": [
    "def read_COMPINT(prefC, cname):\n",
    "    o4=np.zeros([1, nx, ny, ncomp])\n",
    "    for k in range(ncomp):\n",
    "        inname = prefC + str(k) + cname\n",
    "        #print(\"  read_COMPINT: \" + inname)\n",
    "        tim=Image.open(inname)\n",
    "        tima=np.array(tim)\n",
    "        o4[0,:,:,k] = tima\n",
    "                \n",
    "    return o4"
   ]
  },
  {
   "cell_type": "code",
   "execution_count": 5,
   "metadata": {},
   "outputs": [],
   "source": [
    "def ar_code(x_in, oname):\n",
    "    img = x_in.flatten()\n",
    "    olen = len(img)\n",
    "    img = img.reshape(olen,1,1)\n",
    "    \n",
    "    bits = codec.bitstream(dat=img)\n",
    "    bits.h = img.shape[0]\n",
    "    bits.w = img.shape[1]\n",
    "    bits.c = img.shape[2]\n",
    "    entro_coder = codec.entropy_codec(Mode='Arith')\n",
    "    entro_coder.encode(bits, oname)\n",
    "    \n",
    "    size1= os.path.getsize(oname + 'dat')\n",
    "    size2= os.path.getsize(oname + 'arith')\n",
    "\n",
    "    #olen, size1, size2 in unit of Byte (assuming input is 8bit int)\n",
    "    return olen, size1, size2"
   ]
  },
  {
   "cell_type": "code",
   "execution_count": 6,
   "metadata": {},
   "outputs": [
    {
     "data": {
      "text/plain": [
       "\"\\npref = './Paper_RB_14bit_COMPINTs/CI32324/COMPINT'\\nnx=64\\nny=120\\nncomp=4\\n\""
      ]
     },
     "execution_count": 6,
     "metadata": {},
     "output_type": "execute_result"
    }
   ],
   "source": [
    "'''\n",
    "pref = './Paper_RB_14bit_COMPINTs/CI884/COMPINT'\n",
    "nx=256\n",
    "ny=480\n",
    "ncomp=4\n",
    "'''\n",
    "\n",
    "\n",
    "pref = './Paper_RB_14bit_COMPINTs/CI16164/COMPINT'\n",
    "nx=128\n",
    "ny=240\n",
    "ncomp=4\n",
    "\n",
    "\n",
    "'''\n",
    "pref = './Paper_RB_14bit_COMPINTs/CI32324/COMPINT'\n",
    "nx=64\n",
    "ny=120\n",
    "ncomp=4\n",
    "'''"
   ]
  },
  {
   "cell_type": "code",
   "execution_count": 7,
   "metadata": {},
   "outputs": [
    {
     "name": "stdout",
     "output_type": "stream",
     "text": [
      "t_C shape: (1, 128, 240, 4) , mean = 142.727685546875 , std = 7.031255679262482 , Max = 209.0 , Min = 123.0 , type=float64\n",
      "t_C_0 shape: (1, 128, 240) , mean = 139.66848958333333 , std = 5.588061288912416 , Max = 184.0 , Min = 131.0 , type=float64\n",
      "t_C_1 shape: (1, 128, 240) , mean = 145.77099609375 , std = 6.988187479037196 , Max = 209.0 , Min = 128.0 , type=float64\n",
      "t_C_2 shape: (1, 128, 240) , mean = 145.44319661458334 , std = 8.104334452444068 , Max = 195.0 , Min = 134.0 , type=float64\n",
      "t_C_3 shape: (1, 128, 240) , mean = 140.02805989583334 , std = 4.327862929677782 , Max = 193.0 , Min = 123.0 , type=float64\n"
     ]
    }
   ],
   "source": [
    "i_f = 3\n",
    "t_C = read_COMPINT(pref, oc_fname(i_f))\n",
    "\n",
    "show_data(t_C, 't_C')\n",
    "for i in range(4):\n",
    "    show_data(t_C[...,i], 't_C_'+str(i))"
   ]
  },
  {
   "cell_type": "code",
   "execution_count": 8,
   "metadata": {},
   "outputs": [
    {
     "name": "stdout",
     "output_type": "stream",
     "text": [
      "data_t shape: (128, 240) , mean = 12.028059895833334 , std = 4.327862929677782 , Max = 65 , Min = -5 , type=int8\n"
     ]
    }
   ],
   "source": [
    "idc = 3\n",
    "data_t = t_C[0,:,:,idc]\n",
    "data_t = data_t - 128.0\n",
    "data_t = data_t.astype(np.int8)\n",
    "show_data(data_t, 'data_t')"
   ]
  },
  {
   "cell_type": "code",
   "execution_count": 9,
   "metadata": {},
   "outputs": [
    {
     "name": "stdout",
     "output_type": "stream",
     "text": [
      "olen30720\n",
      "size130732\n",
      "size214524\n",
      "ratio1= 1.000390625\n",
      "ratio2= 0.472786458333\n"
     ]
    }
   ],
   "source": [
    "oname = 'fAc'\n",
    "olen, size1, size2 = ar_code(data_t, oname)\n",
    "\n",
    "print('olen' + str(olen))\n",
    "print('size1' + str(size1))\n",
    "print('size2' + str(size2))\n",
    "\n",
    "ratio1 = float(size1)/float(olen)\n",
    "ratio2 = float(size2)/float(olen)\n",
    "\n",
    "print('ratio1= ' + str(ratio1))\n",
    "print('ratio2= ' + str(ratio2))"
   ]
  },
  {
   "cell_type": "code",
   "execution_count": 10,
   "metadata": {
    "scrolled": true
   },
   "outputs": [
    {
     "name": "stdout",
     "output_type": "stream",
     "text": [
      "1\n",
      "  t_C shape: (1, 128, 240, 4) , mean = 149.56744791666668 , std = 11.135809717762063 , Max = 210.0 , Min = 117.0 , type=float64\n",
      " channel0 shape: (128, 240) , mean = 24.07548828125 , std = 12.423484490430905 , Max = 72 , Min = 0 , type=int8\n",
      "   olen: 30720 Bytes\n",
      "   size1: 30732 Bytes\n",
      "   size2: 19454 Bytes\n",
      "ratio1= 1.000390625\n",
      "ratio2= 0.633268229167\n",
      " channel1 shape: (128, 240) , mean = 22.438802083333332 , std = 10.283166848787179 , Max = 82 , Min = -11 , type=int8\n",
      "   olen: 30720 Bytes\n",
      "   size1: 30732 Bytes\n",
      "   size2: 18178 Bytes\n",
      "ratio1= 1.000390625\n",
      "ratio2= 0.591731770833\n",
      " channel2 shape: (128, 240) , mean = 21.484765625 , std = 12.947554052200427 , Max = 67 , Min = -7 , type=int8\n",
      "   olen: 30720 Bytes\n",
      "   size1: 30732 Bytes\n",
      "   size2: 19256 Bytes\n",
      "ratio1= 1.000390625\n",
      "ratio2= 0.626822916667\n",
      " channel3 shape: (128, 240) , mean = 18.270735677083334 , std = 7.097514812670059 , Max = 61 , Min = -7 , type=int8\n",
      "   olen: 30720 Bytes\n",
      "   size1: 30732 Bytes\n",
      "   size2: 16819 Bytes\n",
      "ratio1= 1.000390625\n",
      "ratio2= 0.547493489583\n",
      "\n",
      "\n",
      "2\n",
      "  t_C shape: (1, 128, 240, 4) , mean = 146.1253662109375 , std = 17.827528778173175 , Max = 228.0 , Min = 96.0 , type=float64\n",
      " channel0 shape: (128, 240) , mean = 14.946061197916666 , std = 16.14581749670421 , Max = 57 , Min = 1 , type=int8\n",
      "   olen: 30720 Bytes\n",
      "   size1: 30732 Bytes\n",
      "   size2: 17526 Bytes\n",
      "ratio1= 1.000390625\n",
      "ratio2= 0.5705078125\n",
      " channel1 shape: (128, 240) , mean = 21.416634114583335 , std = 18.298304455945694 , Max = 100 , Min = -32 , type=int8\n",
      "   olen: 30720 Bytes\n",
      "   size1: 30732 Bytes\n",
      "   size2: 18588 Bytes\n",
      "ratio1= 1.000390625\n",
      "ratio2= 0.605078125\n",
      " channel2 shape: (128, 240) , mean = 21.724869791666666 , std = 22.525032804584974 , Max = 81 , Min = 0 , type=int8\n",
      "   olen: 30720 Bytes\n",
      "   size1: 30732 Bytes\n",
      "   size2: 19382 Bytes\n",
      "ratio1= 1.000390625\n",
      "ratio2= 0.630924479167\n",
      " channel3 shape: (128, 240) , mean = 14.413899739583334 , std = 10.987211826679362 , Max = 77 , Min = -23 , type=int8\n",
      "   olen: 30720 Bytes\n",
      "   size1: 30732 Bytes\n",
      "   size2: 16077 Bytes\n",
      "ratio1= 1.000390625\n",
      "ratio2= 0.52333984375\n",
      "\n",
      "\n",
      "3\n",
      "  t_C shape: (1, 128, 240, 4) , mean = 142.727685546875 , std = 7.031255679262482 , Max = 209.0 , Min = 123.0 , type=float64\n",
      " channel0 shape: (128, 240) , mean = 11.668489583333333 , std = 5.588061288912416 , Max = 56 , Min = 3 , type=int8\n",
      "   olen: 30720 Bytes\n",
      "   size1: 30732 Bytes\n",
      "   size2: 15770 Bytes\n",
      "ratio1= 1.000390625\n",
      "ratio2= 0.513346354167\n",
      " channel1 shape: (128, 240) , mean = 17.77099609375 , std = 6.988187479037196 , Max = 81 , Min = 0 , type=int8\n",
      "   olen: 30720 Bytes\n",
      "   size1: 30732 Bytes\n",
      "   size2: 16943 Bytes\n",
      "ratio1= 1.000390625\n",
      "ratio2= 0.551529947917\n",
      " channel2 shape: (128, 240) , mean = 17.443196614583332 , std = 8.104334452444066 , Max = 67 , Min = 6 , type=int8\n",
      "   olen: 30720 Bytes\n",
      "   size1: 30732 Bytes\n",
      "   size2: 17683 Bytes\n",
      "ratio1= 1.000390625\n",
      "ratio2= 0.575618489583\n",
      " channel3 shape: (128, 240) , mean = 12.028059895833334 , std = 4.327862929677782 , Max = 65 , Min = -5 , type=int8\n",
      "   olen: 30720 Bytes\n",
      "   size1: 30732 Bytes\n",
      "   size2: 14524 Bytes\n",
      "ratio1= 1.000390625\n",
      "ratio2= 0.472786458333\n",
      "\n",
      "\n"
     ]
    }
   ],
   "source": [
    "fs = 1; fe = 4;\n",
    "nf = fe-fs\n",
    "size1s = np.zeros([nf,4])\n",
    "size2s = np.zeros([nf,4])\n",
    "olens = np.zeros([nf,4])\n",
    "\n",
    "for i in range(fs,fe):\n",
    "    print(i)\n",
    "    t_C = read_COMPINT(pref, oc_fname(i))\n",
    "    show_data(t_C, '  t_C')\n",
    "    \n",
    "    for idc in range(4):\n",
    "        data_t = t_C[0,:,:,idc]\n",
    "        data_t = data_t - 128.0\n",
    "        data_t = data_t.astype(np.int8)\n",
    "        show_data(data_t, ' channel'+str(idc))\n",
    "        olen, size1, size2 = ar_code(data_t, oname)\n",
    "\n",
    "        print('   olen: ' + str(olen) + ' Bytes')\n",
    "        print('   size1: ' + str(size1) + ' Bytes')\n",
    "        print('   size2: ' + str(size2) + ' Bytes')\n",
    "\n",
    "        ratio1 = float(size1)/float(olen)\n",
    "        ratio2 = float(size2)/float(olen)\n",
    "\n",
    "        print('ratio1= ' + str(ratio1))\n",
    "        print('ratio2= ' + str(ratio2))\n",
    "        \n",
    "        idx = i-fs\n",
    "        size1s[idx,idc] = size1\n",
    "        size2s[idx,idc] = size2\n",
    "        olens[idx,idc] = olen\n",
    "    \n",
    "    print('\\n')"
   ]
  },
  {
   "cell_type": "code",
   "execution_count": 11,
   "metadata": {},
   "outputs": [
    {
     "name": "stdout",
     "output_type": "stream",
     "text": [
      "1\n",
      "   ratio_1= 1.000390625\n",
      "   ratio_2= 0.5998291015625\n",
      " \n",
      "2\n",
      "   ratio_1= 1.000390625\n",
      "   ratio_2= 0.5824625651041667\n",
      " \n",
      "3\n",
      "   ratio_1= 1.000390625\n",
      "   ratio_2= 0.5283203125\n",
      " \n"
     ]
    }
   ],
   "source": [
    "for idx in range(nf):\n",
    "    print(idx+1)\n",
    "    \n",
    "    ratio_1 = np.mean(size1s[idx,:])/np.mean(olens[idx,:])\n",
    "    ratio_2 = np.mean(size2s[idx,:])/np.mean(olens[idx,:])\n",
    "\n",
    "    #print('   size_orig= ' + str(size_orig))\n",
    "    print('   ratio_1= ' + str(ratio_1))\n",
    "    print('   ratio_2= ' + str(ratio_2))\n",
    "    print(' ')"
   ]
  },
  {
   "cell_type": "code",
   "execution_count": null,
   "metadata": {},
   "outputs": [],
   "source": []
  }
 ],
 "metadata": {
  "kernelspec": {
   "display_name": "Python 2",
   "language": "python",
   "name": "python2"
  },
  "language_info": {
   "codemirror_mode": {
    "name": "ipython",
    "version": 2
   },
   "file_extension": ".py",
   "mimetype": "text/x-python",
   "name": "python",
   "nbconvert_exporter": "python",
   "pygments_lexer": "ipython2",
   "version": "2.7.15"
  }
 },
 "nbformat": 4,
 "nbformat_minor": 2
}
