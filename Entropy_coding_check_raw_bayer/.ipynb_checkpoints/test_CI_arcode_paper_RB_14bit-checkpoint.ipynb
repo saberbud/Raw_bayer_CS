{
 "cells": [
  {
   "cell_type": "code",
   "execution_count": 1,
   "metadata": {},
   "outputs": [],
   "source": [
    "import numpy as np\n",
    "import arcode\n",
    "import codec\n",
    "import os\n",
    "import matplotlib.pyplot as plt\n",
    "import matplotlib as mpl\n",
    "import skimage\n",
    "from PIL import Image"
   ]
  },
  {
   "cell_type": "code",
   "execution_count": 2,
   "metadata": {},
   "outputs": [],
   "source": [
    "def show_data(x_in, pre_in):\n",
    "    mean = np.mean(x_in)\n",
    "    std = np.std(x_in)\n",
    "    Max = np.max(x_in)\n",
    "    Min = np.min(x_in)\n",
    "    dtype = x_in.dtype\n",
    "    \n",
    "    print(pre_in + ' shape: ' + str(x_in.shape) + ' , mean = ' + str(mean) \n",
    "          + ' , std = ' + str(std) + ' , Max = ' + str(Max) + ' , Min = ' + str(Min) \n",
    "          + ' , type=' + str(dtype))"
   ]
  },
  {
   "cell_type": "code",
   "execution_count": 3,
   "metadata": {},
   "outputs": [],
   "source": [
    "def oc_fname(i_in):\n",
    "    rname = '/f00' + str(i_in) + '.png'\n",
    "    if i_in >9: rname = '/f0' + str(i_in) + '.png'\n",
    "    if i_in >99: rname = '/f' + str(i_in) + '.png'\n",
    "        \n",
    "    return rname"
   ]
  },
  {
   "cell_type": "code",
   "execution_count": 4,
   "metadata": {},
   "outputs": [],
   "source": [
    "def read_COMPINT(prefC, cname):\n",
    "    o4=np.zeros([1, nx, ny, ncomp])\n",
    "    for k in range(ncomp):\n",
    "        inname = prefC + str(k) + cname\n",
    "        #print(\"  read_COMPINT: \" + inname)\n",
    "        tim=Image.open(inname)\n",
    "        tima=np.array(tim)\n",
    "        o4[0,:,:,k] = tima\n",
    "                \n",
    "    return o4"
   ]
  },
  {
   "cell_type": "code",
   "execution_count": 5,
   "metadata": {},
   "outputs": [],
   "source": [
    "def ar_code(x_in, oname):\n",
    "    img = x_in.flatten()\n",
    "    olen = len(img)\n",
    "    img = img.reshape(olen,1,1)\n",
    "    \n",
    "    bits = codec.bitstream(dat=img)\n",
    "    bits.h = img.shape[0]\n",
    "    bits.w = img.shape[1]\n",
    "    bits.c = img.shape[2]\n",
    "    entro_coder = codec.entropy_codec(Mode='Arith')\n",
    "    entro_coder.encode(bits, oname)\n",
    "    \n",
    "    size1= os.path.getsize(oname + 'dat')\n",
    "    size2= os.path.getsize(oname + 'arith')\n",
    "\n",
    "    #olen, size1, size2 in unit of Byte (assuming input is 8bit int)\n",
    "    return olen, size1, size2"
   ]
  },
  {
   "cell_type": "code",
   "execution_count": 6,
   "metadata": {},
   "outputs": [],
   "source": [
    "'''\n",
    "pref = './Paper_RB_14bit_COMPINTs/CI884/COMPINT'\n",
    "nx=256\n",
    "ny=480\n",
    "ncomp=4\n",
    "'''\n",
    "\n",
    "'''\n",
    "pref = './Paper_RB_14bit_COMPINTs/CI16164/COMPINT'\n",
    "nx=128\n",
    "ny=240\n",
    "ncomp=4\n",
    "'''\n",
    "\n",
    "\n",
    "pref = './Paper_RB_14bit_COMPINTs/CI32324/COMPINT'\n",
    "nx=64\n",
    "ny=120\n",
    "ncomp=4\n"
   ]
  },
  {
   "cell_type": "code",
   "execution_count": 7,
   "metadata": {},
   "outputs": [
    {
     "name": "stdout",
     "output_type": "stream",
     "text": [
      "t_C shape: (1, 64, 120, 4) , mean = 128.11826171875 , std = 11.098583681659338 , Max = 180.0 , Min = 83.0 , type=float64\n",
      "t_C_0 shape: (1, 64, 120) , mean = 114.86015625 , std = 5.702861669862416 , Max = 123.0 , Min = 83.0 , type=float64\n",
      "t_C_1 shape: (1, 64, 120) , mean = 136.2203125 , std = 2.3512305967323615 , Max = 167.0 , Min = 132.0 , type=float64\n",
      "t_C_2 shape: (1, 64, 120) , mean = 139.68971354166666 , std = 5.193690926381253 , Max = 180.0 , Min = 123.0 , type=float64\n",
      "t_C_3 shape: (1, 64, 120) , mean = 121.70286458333334 , std = 3.3485059047524954 , Max = 127.0 , Min = 101.0 , type=float64\n"
     ]
    }
   ],
   "source": [
    "i_f = 3\n",
    "t_C = read_COMPINT(pref, oc_fname(i_f))\n",
    "\n",
    "show_data(t_C, 't_C')\n",
    "for i in range(4):\n",
    "    show_data(t_C[...,i], 't_C_'+str(i))"
   ]
  },
  {
   "cell_type": "code",
   "execution_count": 8,
   "metadata": {},
   "outputs": [
    {
     "name": "stdout",
     "output_type": "stream",
     "text": [
      "data_t shape: (64, 120) , mean = -6.297135416666666 , std = 3.3485059047524954 , Max = -1 , Min = -27 , type=int8\n"
     ]
    }
   ],
   "source": [
    "idc = 3\n",
    "data_t = t_C[0,:,:,idc]\n",
    "data_t = data_t - 128.0\n",
    "data_t = data_t.astype(np.int8)\n",
    "show_data(data_t, 'data_t')"
   ]
  },
  {
   "cell_type": "code",
   "execution_count": 9,
   "metadata": {},
   "outputs": [
    {
     "name": "stdout",
     "output_type": "stream",
     "text": [
      "olen7680\n",
      "size17692\n",
      "size23523\n",
      "ratio1= 1.0015625\n",
      "ratio2= 0.458723958333\n"
     ]
    }
   ],
   "source": [
    "oname = 'fAc'\n",
    "olen, size1, size2 = ar_code(data_t, oname)\n",
    "\n",
    "print('olen' + str(olen))\n",
    "print('size1' + str(size1))\n",
    "print('size2' + str(size2))\n",
    "\n",
    "ratio1 = float(size1)/float(olen)\n",
    "ratio2 = float(size2)/float(olen)\n",
    "\n",
    "print('ratio1= ' + str(ratio1))\n",
    "print('ratio2= ' + str(ratio2))"
   ]
  },
  {
   "cell_type": "code",
   "execution_count": 10,
   "metadata": {
    "scrolled": true
   },
   "outputs": [
    {
     "name": "stdout",
     "output_type": "stream",
     "text": [
      "1\n",
      "  t_C shape: (1, 64, 120, 4) , mean = 128.00716145833334 , std = 16.57902126512141 , Max = 186.0 , Min = 85.0 , type=float64\n",
      " channel0 shape: (64, 120) , mean = -14.781510416666666 , std = 8.641178775798366 , Max = 5 , Min = -41 , type=int8\n",
      "   olen: 7680 Bytes\n",
      "   size1: 7692 Bytes\n",
      "   size2: 4594 Bytes\n",
      "ratio1= 1.0015625\n",
      "ratio2= 0.598177083333\n",
      " channel1 shape: (64, 120) , mean = 12.663802083333334 , std = 4.05380378502656 , Max = 32 , Min = 1 , type=int8\n",
      "   olen: 7680 Bytes\n",
      "   size1: 7692 Bytes\n",
      "   size2: 3792 Bytes\n",
      "ratio1= 1.0015625\n",
      "ratio2= 0.49375\n",
      " channel2 shape: (64, 120) , mean = 16.640364583333334 , std = 8.859616119434614 , Max = 58 , Min = -13 , type=int8\n",
      "   olen: 7680 Bytes\n",
      "   size1: 7692 Bytes\n",
      "   size2: 4720 Bytes\n",
      "ratio1= 1.0015625\n",
      "ratio2= 0.614583333333\n",
      " channel3 shape: (64, 120) , mean = -14.494010416666667 , std = 8.001055630866768 , Max = 1 , Min = -43 , type=int8\n",
      "   olen: 7680 Bytes\n",
      "   size1: 7692 Bytes\n",
      "   size2: 4563 Bytes\n",
      "ratio1= 1.0015625\n",
      "ratio2= 0.594140625\n",
      "\n",
      "\n",
      "2\n",
      "  t_C shape: (1, 64, 120, 4) , mean = 127.937890625 , std = 17.61879091956096 , Max = 215.0 , Min = 71.0 , type=float64\n",
      " channel0 shape: (64, 120) , mean = -16.136588541666665 , std = 15.833770766791002 , Max = 6 , Min = -57 , type=int8\n",
      "   olen: 7680 Bytes\n",
      "   size1: 7692 Bytes\n",
      "   size2: 4788 Bytes\n",
      "ratio1= 1.0015625\n",
      "ratio2= 0.6234375\n",
      " channel1 shape: (64, 120) , mean = 9.709375 , std = 5.895038134683694 , Max = 26 , Min = 0 , type=int8\n",
      "   olen: 7680 Bytes\n",
      "   size1: 7692 Bytes\n",
      "   size2: 3560 Bytes\n",
      "ratio1= 1.0015625\n",
      "ratio2= 0.463541666667\n",
      " channel2 shape: (64, 120) , mean = 14.536328125 , std = 14.712628612318081 , Max = 87 , Min = -34 , type=int8\n",
      "   olen: 7680 Bytes\n",
      "   size1: 7692 Bytes\n",
      "   size2: 4731 Bytes\n",
      "ratio1= 1.0015625\n",
      "ratio2= 0.616015625\n",
      " channel3 shape: (64, 120) , mean = -8.357552083333333 , std = 10.196392859292807 , Max = 4 , Min = -35 , type=int8\n",
      "   olen: 7680 Bytes\n",
      "   size1: 7692 Bytes\n",
      "   size2: 4110 Bytes\n",
      "ratio1= 1.0015625\n",
      "ratio2= 0.53515625\n",
      "\n",
      "\n",
      "3\n",
      "  t_C shape: (1, 64, 120, 4) , mean = 128.11826171875 , std = 11.098583681659338 , Max = 180.0 , Min = 83.0 , type=float64\n",
      " channel0 shape: (64, 120) , mean = -13.13984375 , std = 5.702861669862415 , Max = -5 , Min = -45 , type=int8\n",
      "   olen: 7680 Bytes\n",
      "   size1: 7692 Bytes\n",
      "   size2: 4230 Bytes\n",
      "ratio1= 1.0015625\n",
      "ratio2= 0.55078125\n",
      " channel1 shape: (64, 120) , mean = 8.2203125 , std = 2.3512305967323615 , Max = 39 , Min = 4 , type=int8\n",
      "   olen: 7680 Bytes\n",
      "   size1: 7692 Bytes\n",
      "   size2: 3014 Bytes\n",
      "ratio1= 1.0015625\n",
      "ratio2= 0.392447916667\n",
      " channel2 shape: (64, 120) , mean = 11.689713541666666 , std = 5.193690926381253 , Max = 52 , Min = -5 , type=int8\n",
      "   olen: 7680 Bytes\n",
      "   size1: 7692 Bytes\n",
      "   size2: 4132 Bytes\n",
      "ratio1= 1.0015625\n",
      "ratio2= 0.538020833333\n",
      " channel3 shape: (64, 120) , mean = -6.297135416666666 , std = 3.3485059047524954 , Max = -1 , Min = -27 , type=int8\n",
      "   olen: 7680 Bytes\n",
      "   size1: 7692 Bytes\n",
      "   size2: 3523 Bytes\n",
      "ratio1= 1.0015625\n",
      "ratio2= 0.458723958333\n",
      "\n",
      "\n"
     ]
    }
   ],
   "source": [
    "fs = 1; fe = 4;\n",
    "nf = fe-fs\n",
    "size1s = np.zeros([nf,4])\n",
    "size2s = np.zeros([nf,4])\n",
    "olens = np.zeros([nf,4])\n",
    "\n",
    "for i in range(fs,fe):\n",
    "    print(i)\n",
    "    t_C = read_COMPINT(pref, oc_fname(i))\n",
    "    show_data(t_C, '  t_C')\n",
    "    \n",
    "    for idc in range(4):\n",
    "        data_t = t_C[0,:,:,idc]\n",
    "        data_t = data_t - 128.0\n",
    "        data_t = data_t.astype(np.int8)\n",
    "        show_data(data_t, ' channel'+str(idc))\n",
    "        olen, size1, size2 = ar_code(data_t, oname)\n",
    "\n",
    "        print('   olen: ' + str(olen) + ' Bytes')\n",
    "        print('   size1: ' + str(size1) + ' Bytes')\n",
    "        print('   size2: ' + str(size2) + ' Bytes')\n",
    "\n",
    "        ratio1 = float(size1)/float(olen)\n",
    "        ratio2 = float(size2)/float(olen)\n",
    "\n",
    "        print('ratio1= ' + str(ratio1))\n",
    "        print('ratio2= ' + str(ratio2))\n",
    "        \n",
    "        idx = i-fs\n",
    "        size1s[idx,idc] = size1\n",
    "        size2s[idx,idc] = size2\n",
    "        olens[idx,idc] = olen\n",
    "    \n",
    "    print('\\n')"
   ]
  },
  {
   "cell_type": "code",
   "execution_count": 11,
   "metadata": {},
   "outputs": [
    {
     "name": "stdout",
     "output_type": "stream",
     "text": [
      "1\n",
      "   ratio_1= 1.0015625\n",
      "   ratio_2= 0.5751627604166667\n",
      " \n",
      "2\n",
      "   ratio_1= 1.0015625\n",
      "   ratio_2= 0.5595377604166667\n",
      " \n",
      "3\n",
      "   ratio_1= 1.0015625\n",
      "   ratio_2= 0.4849934895833333\n",
      " \n"
     ]
    }
   ],
   "source": [
    "for idx in range(nf):\n",
    "    print(idx+1)\n",
    "    \n",
    "    ratio_1 = np.mean(size1s[idx,:])/np.mean(olens[idx,:])\n",
    "    ratio_2 = np.mean(size2s[idx,:])/np.mean(olens[idx,:])\n",
    "\n",
    "    #print('   size_orig= ' + str(size_orig))\n",
    "    print('   ratio_1= ' + str(ratio_1))\n",
    "    print('   ratio_2= ' + str(ratio_2))\n",
    "    print(' ')"
   ]
  },
  {
   "cell_type": "code",
   "execution_count": null,
   "metadata": {},
   "outputs": [],
   "source": []
  }
 ],
 "metadata": {
  "kernelspec": {
   "display_name": "Python 2",
   "language": "python",
   "name": "python2"
  },
  "language_info": {
   "codemirror_mode": {
    "name": "ipython",
    "version": 2
   },
   "file_extension": ".py",
   "mimetype": "text/x-python",
   "name": "python",
   "nbconvert_exporter": "python",
   "pygments_lexer": "ipython2",
   "version": "2.7.15"
  }
 },
 "nbformat": 4,
 "nbformat_minor": 2
}
