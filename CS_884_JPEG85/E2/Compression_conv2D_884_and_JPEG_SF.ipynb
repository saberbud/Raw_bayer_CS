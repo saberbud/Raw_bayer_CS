{
 "cells": [
  {
   "cell_type": "code",
   "execution_count": 1,
   "metadata": {},
   "outputs": [],
   "source": [
    "import numpy as np\n",
    "import tensorflow as tf\n",
    "import h5py\n",
    "import matplotlib.pyplot as plt\n",
    "import matplotlib as mpl\n",
    "import skimage\n",
    "import os\n",
    "from PIL import Image\n",
    "from skimage.measure import compare_ssim,compare_psnr\n",
    "np.random.seed(73)"
   ]
  },
  {
   "cell_type": "code",
   "execution_count": 2,
   "metadata": {},
   "outputs": [],
   "source": [
    "def compression(Data_in, code_in, stride_size, Q_scale, Q_type):\n",
    "    compW = tf.constant(code_in)\n",
    "\n",
    "    comp = tf.nn.conv2d(Data_in, compW, strides=[1, stride_size, stride_size, 1], padding='VALID')\n",
    "    print(comp)\n",
    "\n",
    "    compm = comp*Q_scale\n",
    "    print(compm)\n",
    "\n",
    "    compint = tf.cast(compm,Q_type)\n",
    "    print(compint)\n",
    "    \n",
    "    return compint"
   ]
  },
  {
   "cell_type": "code",
   "execution_count": 3,
   "metadata": {},
   "outputs": [
    {
     "name": "stdout",
     "output_type": "stream",
     "text": [
      "code shape: (8, 8, 1, 4)\n"
     ]
    }
   ],
   "source": [
    "block_size = 8\n",
    "stride_size = 8\n",
    "ncomp=4\n",
    "\n",
    "sc_int=23.\n",
    "Q_scale=1.\n",
    "\n",
    "nrfs=10\n",
    "Nx=2048\n",
    "Ny=3840\n",
    "NC = 1\n",
    "\n",
    "f_code=h5py.File('./code_884_1x16_mix_4bit.h5','r')\n",
    "code=f_code['data'][:]\n",
    "code=code.astype(np.float32)\n",
    "print(\"code shape: \" + str(code.shape))"
   ]
  },
  {
   "cell_type": "code",
   "execution_count": 4,
   "metadata": {},
   "outputs": [
    {
     "name": "stdout",
     "output_type": "stream",
     "text": [
      "Tensor(\"DATA/Placeholder:0\", shape=(?, 2048, 3840, 1), dtype=float32)\n"
     ]
    }
   ],
   "source": [
    "with tf.name_scope('DATA'):\n",
    "    Data_in = tf.placeholder(tf.float32,shape=[None,Nx,Ny,NC])\n",
    "    print(Data_in)"
   ]
  },
  {
   "cell_type": "code",
   "execution_count": 5,
   "metadata": {},
   "outputs": [
    {
     "name": "stdout",
     "output_type": "stream",
     "text": [
      "Tensor(\"Conv2D:0\", shape=(?, 256, 480, 4), dtype=float32)\n",
      "Tensor(\"mul:0\", shape=(?, 256, 480, 4), dtype=float32)\n",
      "Tensor(\"Cast:0\", shape=(?, 256, 480, 4), dtype=int8)\n",
      "Tensor(\"Cast:0\", shape=(?, 256, 480, 4), dtype=int8)\n"
     ]
    }
   ],
   "source": [
    "comp_o=compression(Data_in, code, stride_size, Q_scale, tf.int8)\n",
    "print(comp_o)"
   ]
  },
  {
   "cell_type": "code",
   "execution_count": 6,
   "metadata": {},
   "outputs": [],
   "source": [
    "def read_raw_data(fname):\n",
    "    xs=0; ys=0\n",
    "    xe=xs+2048; ye=ys+3840\n",
    "    pop=np.fromfile(fname,dtype=np.dtype('i2'))\n",
    "    pop=pop[0:3864*2174]\n",
    "    \n",
    "    pop=np.reshape(pop,(2174,3864))\n",
    "    pop=np.rot90(np.rot90(pop))  #For 1, 2, comment out if running 3\n",
    "    \n",
    "    pop=pop[xs:xe,ys:ye]\n",
    "    #pop=np.rot90(np.rot90(pop))  #For 3, comment out if running 1, 2\n",
    "    \n",
    "    pop=pop/(np.power(2,14)-1.)\n",
    "    \n",
    "    return pop"
   ]
  },
  {
   "cell_type": "code",
   "execution_count": 7,
   "metadata": {},
   "outputs": [],
   "source": [
    "def trans_JPEG(data_in, QP, j_name):\n",
    "    im = Image.fromarray(data_in)\n",
    "    im.save(j_name,quality=QP)\n",
    "    size=os.path.getsize(j_name)\n",
    "    tim_t=Image.open(j_name)\n",
    "    tima_t=np.array(tim_t)\n",
    "\n",
    "    return tima_t, size"
   ]
  },
  {
   "cell_type": "code",
   "execution_count": 8,
   "metadata": {},
   "outputs": [],
   "source": [
    "def write_COMPINT_JPEG(r_name, j_name, Q_P):\n",
    "    Data_t = np.zeros([1,2048,3840,1])\n",
    "    Data_t[0,:,:,0] = read_raw_data(r_name)\n",
    "    print(\"  Data_t shape= \" + str(Data_t[0,:,:,0].shape) + \" , max= \" + str(np.max(Data_t[0,:,:,0])) \n",
    "        + \" , min= \" + str(np.min(Data_t[0,:,:,0])) + \" , mean= \" + str(np.mean(Data_t[0,:,:,0])))\n",
    "    \n",
    "    with tf.Session() as sess:\n",
    "        comp_out=sess.run(comp_o,feed_dict={Data_in:Data_t})\n",
    "    \n",
    "    print(\"  comp_out shape= \" + str(comp_out.shape) + \" , type= \" + str(comp_out.dtype) + \" , max= \" + str(np.max(comp_out)) \n",
    "        + \" , min= \" + str(np.min(comp_out)) + \" , mean= \" + str(np.mean(comp_out)))\n",
    "    \n",
    "    comp_u8 = comp_out + 128\n",
    "    comp_u8 = comp_u8.astype(np.uint8)\n",
    "    print(\"  comp_u8 shape= \" + str(comp_u8.shape) + \" , type= \" + str(comp_u8.dtype) + \" , max= \" + str(np.max(comp_u8)) \n",
    "        + \" , min= \" + str(np.min(comp_u8)) + \" , mean= \" + str(np.mean(comp_u8)))\n",
    "    \n",
    "    for k in range(4):\n",
    "        jname = j_name + \"_C_\" + str(k) + \".jpeg\"\n",
    "        print(\"\\n  jname: \" + jname)\n",
    "            \n",
    "        rtima, size = trans_JPEG(comp_u8[0,:,:,k], Q_P, jname)\n",
    "        print(\"  rtima shape= \" + str(rtima.shape) + \" , type= \" + str(rtima.dtype) + \" , max= \" + str(np.max(rtima)) \n",
    "            + \" , min= \" + str(np.min(rtima)) + \" , mean= \" + str(np.mean(rtima)))\n",
    "        print(\"  size= \" + str(size))\n",
    "        print(\"  ratio= \" + str(rtima.shape[0]*rtima.shape[1]/size))\n",
    "            \n",
    "        psnr =compare_psnr(rtima, comp_u8[0,:,:,k])\n",
    "        ssim =compare_ssim(rtima, comp_u8[0,:,:,k], multichannel=False)\n",
    "            \n",
    "        print(\"  psnr= \" + str(psnr))\n",
    "        print(\"  ssim= \" + str(ssim))"
   ]
  },
  {
   "cell_type": "code",
   "execution_count": 9,
   "metadata": {},
   "outputs": [],
   "source": [
    "fileName='../Example_raw_bayer_data/2.raw'"
   ]
  },
  {
   "cell_type": "code",
   "execution_count": 10,
   "metadata": {},
   "outputs": [
    {
     "name": "stdout",
     "output_type": "stream",
     "text": [
      "  Data_t shape= (2048, 3840) , max= 0.9999389611182323 , min= 0.04883110541414881 , mean= 0.23383626232540347\n",
      "  comp_out shape= (1, 256, 480, 4) , type= int8 , max= 81 , min= -48 , mean= 10.04151611328125\n",
      "  comp_u8 shape= (1, 256, 480, 4) , type= uint8 , max= 209 , min= 80 , mean= 138.04151611328126\n",
      "\n",
      "  jname: ./tmp_COMPINT_C_0.jpeg\n",
      "  rtima shape= (256, 480) , type= uint8 , max= 131 , min= 80 , mean= 113.54306640625\n",
      "  size= 6061\n",
      "  ratio= 20.27388219765715\n",
      "  psnr= 49.67008956126186\n",
      "  ssim= 0.9927626755829118\n",
      "\n",
      "  jname: ./tmp_COMPINT_C_1.jpeg\n",
      "  rtima shape= (256, 480) , type= uint8 , max= 198 , min= 117 , mean= 145.46415201822916\n",
      "  size= 7166\n",
      "  ratio= 17.147641641082892\n",
      "  psnr= 48.1314751771331\n",
      "  ssim= 0.991272776290474\n",
      "\n",
      "  jname: ./tmp_COMPINT_C_2.jpeg\n",
      "  rtima shape= (256, 480) , type= uint8 , max= 210 , min= 126 , mean= 150.96564127604168\n",
      "  size= 8152\n",
      "  ratio= 15.073601570166831\n",
      "  psnr= 48.14939842192503\n",
      "  ssim= 0.9923458694739626\n",
      "\n",
      "  jname: ./tmp_COMPINT_C_3.jpeg\n",
      "  rtima shape= (256, 480) , type= uint8 , max= 180 , min= 124 , mean= 142.23868001302083\n",
      "  size= 6630\n",
      "  ratio= 18.533936651583712\n",
      "  psnr= 49.65048686514783\n",
      "  ssim= 0.9932097462534005\n"
     ]
    }
   ],
   "source": [
    "jpname = './tmp_COMPINT'\n",
    "Q_P = 85\n",
    "write_COMPINT_JPEG(fileName, jpname, Q_P)"
   ]
  },
  {
   "cell_type": "code",
   "execution_count": null,
   "metadata": {},
   "outputs": [],
   "source": []
  }
 ],
 "metadata": {
  "kernelspec": {
   "display_name": "Python 3",
   "language": "python",
   "name": "python3"
  },
  "language_info": {
   "codemirror_mode": {
    "name": "ipython",
    "version": 3
   },
   "file_extension": ".py",
   "mimetype": "text/x-python",
   "name": "python",
   "nbconvert_exporter": "python",
   "pygments_lexer": "ipython3",
   "version": "3.6.5"
  }
 },
 "nbformat": 4,
 "nbformat_minor": 2
}
