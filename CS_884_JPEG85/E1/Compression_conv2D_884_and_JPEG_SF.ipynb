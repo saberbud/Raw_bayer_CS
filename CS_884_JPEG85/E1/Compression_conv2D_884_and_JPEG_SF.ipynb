{
 "cells": [
  {
   "cell_type": "code",
   "execution_count": 1,
   "metadata": {},
   "outputs": [],
   "source": [
    "import numpy as np\n",
    "import tensorflow as tf\n",
    "import h5py\n",
    "import matplotlib.pyplot as plt\n",
    "import matplotlib as mpl\n",
    "import skimage\n",
    "import os\n",
    "from PIL import Image\n",
    "from skimage.measure import compare_ssim,compare_psnr\n",
    "np.random.seed(73)"
   ]
  },
  {
   "cell_type": "code",
   "execution_count": 2,
   "metadata": {},
   "outputs": [],
   "source": [
    "def compression(Data_in, code_in, stride_size, Q_scale, Q_type):\n",
    "    compW = tf.constant(code_in)\n",
    "\n",
    "    comp = tf.nn.conv2d(Data_in, compW, strides=[1, stride_size, stride_size, 1], padding='VALID')\n",
    "    print(comp)\n",
    "\n",
    "    compm = comp*Q_scale\n",
    "    print(compm)\n",
    "\n",
    "    compint = tf.cast(compm,Q_type)\n",
    "    print(compint)\n",
    "    \n",
    "    return compint"
   ]
  },
  {
   "cell_type": "code",
   "execution_count": 3,
   "metadata": {},
   "outputs": [
    {
     "name": "stdout",
     "output_type": "stream",
     "text": [
      "code shape: (8, 8, 1, 4)\n"
     ]
    }
   ],
   "source": [
    "block_size = 8\n",
    "stride_size = 8\n",
    "ncomp=4\n",
    "\n",
    "sc_int=23.\n",
    "Q_scale=1.\n",
    "\n",
    "nrfs=10\n",
    "Nx=2048\n",
    "Ny=3840\n",
    "NC = 1\n",
    "\n",
    "f_code=h5py.File('./code_884_1x16_mix_4bit.h5','r')\n",
    "code=f_code['data'][:]\n",
    "code=code.astype(np.float32)\n",
    "print(\"code shape: \" + str(code.shape))"
   ]
  },
  {
   "cell_type": "code",
   "execution_count": 4,
   "metadata": {},
   "outputs": [
    {
     "name": "stdout",
     "output_type": "stream",
     "text": [
      "Tensor(\"DATA/Placeholder:0\", shape=(?, 2048, 3840, 1), dtype=float32)\n"
     ]
    }
   ],
   "source": [
    "with tf.name_scope('DATA'):\n",
    "    Data_in = tf.placeholder(tf.float32,shape=[None,Nx,Ny,NC])\n",
    "    print(Data_in)"
   ]
  },
  {
   "cell_type": "code",
   "execution_count": 5,
   "metadata": {},
   "outputs": [
    {
     "name": "stdout",
     "output_type": "stream",
     "text": [
      "Tensor(\"Conv2D:0\", shape=(?, 256, 480, 4), dtype=float32)\n",
      "Tensor(\"mul:0\", shape=(?, 256, 480, 4), dtype=float32)\n",
      "Tensor(\"Cast:0\", shape=(?, 256, 480, 4), dtype=int8)\n",
      "Tensor(\"Cast:0\", shape=(?, 256, 480, 4), dtype=int8)\n"
     ]
    }
   ],
   "source": [
    "comp_o=compression(Data_in, code, stride_size, Q_scale, tf.int8)\n",
    "print(comp_o)"
   ]
  },
  {
   "cell_type": "code",
   "execution_count": 6,
   "metadata": {},
   "outputs": [],
   "source": [
    "def read_raw_data(fname):\n",
    "    xs=0; ys=0\n",
    "    xe=xs+2048; ye=ys+3840\n",
    "    pop=np.fromfile(fname,dtype=np.dtype('i2'))\n",
    "    pop=pop[0:3864*2174]\n",
    "    \n",
    "    pop=np.reshape(pop,(2174,3864))\n",
    "    pop=np.rot90(np.rot90(pop))  #For 1, 2, comment out if running 3\n",
    "    \n",
    "    pop=pop[xs:xe,ys:ye]\n",
    "    #pop=np.rot90(np.rot90(pop))  #For 3, comment out if running 1, 2\n",
    "    \n",
    "    pop=pop/(np.power(2,14)-1.)\n",
    "    \n",
    "    return pop"
   ]
  },
  {
   "cell_type": "code",
   "execution_count": 7,
   "metadata": {},
   "outputs": [],
   "source": [
    "def trans_JPEG(data_in, QP, j_name):\n",
    "    im = Image.fromarray(data_in)\n",
    "    im.save(j_name,quality=QP)\n",
    "    size=os.path.getsize(j_name)\n",
    "    tim_t=Image.open(j_name)\n",
    "    tima_t=np.array(tim_t)\n",
    "\n",
    "    return tima_t, size"
   ]
  },
  {
   "cell_type": "code",
   "execution_count": 8,
   "metadata": {},
   "outputs": [],
   "source": [
    "def write_COMPINT_JPEG(r_name, j_name, Q_P):\n",
    "    Data_t = np.zeros([1,2048,3840,1])\n",
    "    Data_t[0,:,:,0] = read_raw_data(r_name)\n",
    "    print(\"  Data_t shape= \" + str(Data_t[0,:,:,0].shape) + \" , max= \" + str(np.max(Data_t[0,:,:,0])) \n",
    "        + \" , min= \" + str(np.min(Data_t[0,:,:,0])) + \" , mean= \" + str(np.mean(Data_t[0,:,:,0])))\n",
    "    \n",
    "    with tf.Session() as sess:\n",
    "        comp_out=sess.run(comp_o,feed_dict={Data_in:Data_t})\n",
    "    \n",
    "    print(\"  comp_out shape= \" + str(comp_out.shape) + \" , type= \" + str(comp_out.dtype) + \" , max= \" + str(np.max(comp_out)) \n",
    "        + \" , min= \" + str(np.min(comp_out)) + \" , mean= \" + str(np.mean(comp_out)))\n",
    "    \n",
    "    comp_u8 = comp_out + 128\n",
    "    comp_u8 = comp_u8.astype(np.uint8)\n",
    "    print(\"  comp_u8 shape= \" + str(comp_u8.shape) + \" , type= \" + str(comp_u8.dtype) + \" , max= \" + str(np.max(comp_u8)) \n",
    "        + \" , min= \" + str(np.min(comp_u8)) + \" , mean= \" + str(np.mean(comp_u8)))\n",
    "    \n",
    "    for k in range(4):\n",
    "        jname = j_name + \"_C_\" + str(k) + \".jpeg\"\n",
    "        print(\"\\n  jname: \" + jname)\n",
    "            \n",
    "        rtima, size = trans_JPEG(comp_u8[0,:,:,k], Q_P, jname)\n",
    "        print(\"  rtima shape= \" + str(rtima.shape) + \" , type= \" + str(rtima.dtype) + \" , max= \" + str(np.max(rtima)) \n",
    "            + \" , min= \" + str(np.min(rtima)) + \" , mean= \" + str(np.mean(rtima)))\n",
    "        print(\"  size= \" + str(size))\n",
    "        print(\"  ratio= \" + str(rtima.shape[0]*rtima.shape[1]/size))\n",
    "            \n",
    "        psnr =compare_psnr(rtima, comp_u8[0,:,:,k])\n",
    "        ssim =compare_ssim(rtima, comp_u8[0,:,:,k], multichannel=False)\n",
    "            \n",
    "        print(\"  psnr= \" + str(psnr))\n",
    "        print(\"  ssim= \" + str(ssim))"
   ]
  },
  {
   "cell_type": "code",
   "execution_count": 9,
   "metadata": {},
   "outputs": [],
   "source": [
    "fileName='../Example_raw_bayer_data/1.raw'"
   ]
  },
  {
   "cell_type": "code",
   "execution_count": 10,
   "metadata": {},
   "outputs": [
    {
     "name": "stdout",
     "output_type": "stream",
     "text": [
      "  Data_t shape= (2048, 3840) , max= 0.9999389611182323 , min= 0.05273759384728072 , mean= 0.27559552881423693\n",
      "  comp_out shape= (1, 256, 480, 4) , type= int8 , max= 72 , min= -56 , mean= 12.194521077473958\n",
      "  comp_u8 shape= (1, 256, 480, 4) , type= uint8 , max= 200 , min= 72 , mean= 140.19452107747395\n",
      "\n",
      "  jname: ./tmp_COMPINT_C_0.jpeg\n",
      "  rtima shape= (256, 480) , type= uint8 , max= 127 , min= 70 , mean= 112.30228678385417\n",
      "  size= 6520\n",
      "  ratio= 18.846625766871167\n",
      "  psnr= 48.89673744382001\n",
      "  ssim= 0.9887758285664967\n",
      "\n",
      "  jname: ./tmp_COMPINT_C_1.jpeg\n",
      "  rtima shape= (256, 480) , type= uint8 , max= 198 , min= 126 , mean= 148.89544270833332\n",
      "  size= 8457\n",
      "  ratio= 14.529975168499467\n",
      "  psnr= 46.41770130313431\n",
      "  ssim= 0.9836571818002637\n",
      "\n",
      "  jname: ./tmp_COMPINT_C_2.jpeg\n",
      "  rtima shape= (256, 480) , type= uint8 , max= 204 , min= 122 , mean= 151.47864583333333\n",
      "  size= 9463\n",
      "  ratio= 12.98531121208919\n",
      "  psnr= 46.638131242741025\n",
      "  ssim= 0.9856477061888516\n",
      "\n",
      "  jname: ./tmp_COMPINT_C_3.jpeg\n",
      "  rtima shape= (256, 480) , type= uint8 , max= 193 , min= 127 , mean= 148.16270345052084\n",
      "  size= 8679\n",
      "  ratio= 14.158313169720014\n",
      "  psnr= 47.547029048235636\n",
      "  ssim= 0.9874501087099655\n"
     ]
    }
   ],
   "source": [
    "jpname = './tmp_COMPINT'\n",
    "Q_P = 85\n",
    "write_COMPINT_JPEG(fileName, jpname, Q_P)"
   ]
  },
  {
   "cell_type": "code",
   "execution_count": null,
   "metadata": {},
   "outputs": [],
   "source": []
  }
 ],
 "metadata": {
  "kernelspec": {
   "display_name": "Python 3",
   "language": "python",
   "name": "python3"
  },
  "language_info": {
   "codemirror_mode": {
    "name": "ipython",
    "version": 3
   },
   "file_extension": ".py",
   "mimetype": "text/x-python",
   "name": "python",
   "nbconvert_exporter": "python",
   "pygments_lexer": "ipython3",
   "version": "3.6.5"
  }
 },
 "nbformat": 4,
 "nbformat_minor": 2
}
