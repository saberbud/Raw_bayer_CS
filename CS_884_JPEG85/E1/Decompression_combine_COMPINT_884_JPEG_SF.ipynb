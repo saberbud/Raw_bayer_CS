{
 "cells": [
  {
   "cell_type": "code",
   "execution_count": 1,
   "metadata": {},
   "outputs": [],
   "source": [
    "import numpy as np\n",
    "import tensorflow as tf\n",
    "import h5py\n",
    "import matplotlib.pyplot as plt\n",
    "import matplotlib as mpl\n",
    "import skimage\n",
    "from PIL import Image\n",
    "from skimage.measure import compare_ssim,compare_psnr\n",
    "np.random.seed(73)"
   ]
  },
  {
   "cell_type": "code",
   "execution_count": 2,
   "metadata": {},
   "outputs": [],
   "source": [
    "def residual_block(input_tense):\n",
    "    tmp1 = tf.nn.relu(tf.layers.batch_normalization(\n",
    "        tf.layers.conv2d(input_tense,64,[3,3],[1,1], padding='SAME')))\n",
    "    tmp2 = tf.nn.relu(tf.layers.batch_normalization(\n",
    "        tf.layers.conv2d(tmp1,16,[2,2],[1,1], padding='SAME')))\n",
    "    tmp3 = tf.layers.batch_normalization(\n",
    "        tf.layers.conv2d(tmp2,1,[1,1],[1,1], padding='SAME'))\n",
    "    tmp4 = tmp3 + input_tense\n",
    "    return tmp4"
   ]
  },
  {
   "cell_type": "code",
   "execution_count": 3,
   "metadata": {},
   "outputs": [],
   "source": [
    "from xy_inception_tf_model import inception_module,inception_model\n",
    "\n",
    "def recon_NN(comp_in, NC, block_size, stride_size, reuse=False):\n",
    "    with tf.variable_scope('Decomp_NN_884_fix_code_RB_SF_JPEG_85', reuse=reuse):\n",
    "    \n",
    "        with tf.name_scope('Pre_dcomp'):\n",
    "            pdcomp = residual_block(comp_in)\n",
    "            print(pdcomp)\n",
    "\n",
    "        with tf.name_scope('Dcompress_Conv'):\n",
    "            dcomp = tf.layers.conv2d_transpose(pdcomp,NC,[block_size,block_size],[stride_size,stride_size], padding='VALID')\n",
    "            print(dcomp)\n",
    "\n",
    "\n",
    "        with tf.name_scope('inception_model'):\n",
    "            outputs=inception_model(dcomp,8)\n",
    "        \n",
    "        return outputs"
   ]
  },
  {
   "cell_type": "code",
   "execution_count": 4,
   "metadata": {},
   "outputs": [
    {
     "name": "stdout",
     "output_type": "stream",
     "text": [
      "code shape: (8, 8, 1, 4)\n"
     ]
    }
   ],
   "source": [
    "block_size = 8\n",
    "stride_size = 8\n",
    "\n",
    "nx=128\n",
    "ny=240\n",
    "ncomp=4\n",
    "\n",
    "sc_int=23.\n",
    "Q_scale=1.\n",
    "\n",
    "NC = 1\n",
    "\n",
    "f_code=h5py.File('./code_884_1x16_mix_4bit.h5','r')\n",
    "code=f_code['data'][:]\n",
    "code=code.astype(np.float32)\n",
    "print(\"code shape: \" + str(code.shape))"
   ]
  },
  {
   "cell_type": "code",
   "execution_count": 5,
   "metadata": {},
   "outputs": [
    {
     "name": "stdout",
     "output_type": "stream",
     "text": [
      "Tensor(\"Compress_Conv_f32/Placeholder:0\", shape=(?, 128, 240, 4), dtype=float32)\n"
     ]
    }
   ],
   "source": [
    "with tf.name_scope('Compress_Conv_f32'):\n",
    "    compf32 = tf.placeholder(tf.float32,shape=[None,nx,ny,ncomp])\n",
    "print(compf32)"
   ]
  },
  {
   "cell_type": "code",
   "execution_count": 6,
   "metadata": {},
   "outputs": [
    {
     "name": "stdout",
     "output_type": "stream",
     "text": [
      "Tensor(\"Decomp_NN_884_fix_code_RB_SF_JPEG_85/Pre_dcomp/add:0\", shape=(?, 128, 240, 4), dtype=float32)\n",
      "Tensor(\"Decomp_NN_884_fix_code_RB_SF_JPEG_85/Dcompress_Conv/conv2d_transpose/BiasAdd:0\", shape=(?, 1024, 1920, 1), dtype=float32)\n",
      "Tensor(\"Decomp_NN_884_fix_code_RB_SF_JPEG_85/inception_model/conv2d/BiasAdd:0\", shape=(?, 1024, 1920, 64), dtype=float32)\n",
      "Tensor(\"Decomp_NN_884_fix_code_RB_SF_JPEG_85/inception_model/batch_normalization/FusedBatchNorm:0\", shape=(?, 1024, 1920, 64), dtype=float32)\n",
      "Tensor(\"Decomp_NN_884_fix_code_RB_SF_JPEG_85/inception_model/conv2d_1/BiasAdd:0\", shape=(?, 1024, 1920, 32), dtype=float32)\n",
      "Tensor(\"Decomp_NN_884_fix_code_RB_SF_JPEG_85/inception_model/batch_normalization_1/FusedBatchNorm:0\", shape=(?, 1024, 1920, 32), dtype=float32)\n",
      "Tensor(\"Decomp_NN_884_fix_code_RB_SF_JPEG_85/inception_model/LeakyRelu/Maximum:0\", shape=(?, 1024, 1920, 96), dtype=float32)\n",
      "Tensor(\"Decomp_NN_884_fix_code_RB_SF_JPEG_85/inception_model/inception_modules_0/conv2d/BiasAdd:0\", shape=(?, 1024, 1920, 64), dtype=float32)\n",
      "Tensor(\"Decomp_NN_884_fix_code_RB_SF_JPEG_85/inception_model/inception_modules_0/batch_normalization/FusedBatchNorm:0\", shape=(?, 1024, 1920, 64), dtype=float32)\n",
      "Tensor(\"Decomp_NN_884_fix_code_RB_SF_JPEG_85/inception_model/inception_modules_0/conv2d_1/BiasAdd:0\", shape=(?, 1024, 1920, 32), dtype=float32)\n",
      "Tensor(\"Decomp_NN_884_fix_code_RB_SF_JPEG_85/inception_model/inception_modules_0/batch_normalization_1/FusedBatchNorm:0\", shape=(?, 1024, 1920, 32), dtype=float32)\n",
      "Tensor(\"Decomp_NN_884_fix_code_RB_SF_JPEG_85/inception_model/inception_modules_0/Add:0\", shape=(?, 1024, 1920, 96), dtype=float32)\n",
      "Tensor(\"Decomp_NN_884_fix_code_RB_SF_JPEG_85/inception_model/inception_modules_0/LeakyRelu/Maximum:0\", shape=(?, 1024, 1920, 96), dtype=float32)\n",
      "Tensor(\"Decomp_NN_884_fix_code_RB_SF_JPEG_85/inception_model/inception_modules_1/conv2d/BiasAdd:0\", shape=(?, 1024, 1920, 64), dtype=float32)\n",
      "Tensor(\"Decomp_NN_884_fix_code_RB_SF_JPEG_85/inception_model/inception_modules_1/batch_normalization/FusedBatchNorm:0\", shape=(?, 1024, 1920, 64), dtype=float32)\n",
      "Tensor(\"Decomp_NN_884_fix_code_RB_SF_JPEG_85/inception_model/inception_modules_1/conv2d_1/BiasAdd:0\", shape=(?, 1024, 1920, 32), dtype=float32)\n",
      "Tensor(\"Decomp_NN_884_fix_code_RB_SF_JPEG_85/inception_model/inception_modules_1/batch_normalization_1/FusedBatchNorm:0\", shape=(?, 1024, 1920, 32), dtype=float32)\n",
      "Tensor(\"Decomp_NN_884_fix_code_RB_SF_JPEG_85/inception_model/inception_modules_1/Add:0\", shape=(?, 1024, 1920, 96), dtype=float32)\n",
      "Tensor(\"Decomp_NN_884_fix_code_RB_SF_JPEG_85/inception_model/inception_modules_1/LeakyRelu/Maximum:0\", shape=(?, 1024, 1920, 96), dtype=float32)\n",
      "Tensor(\"Decomp_NN_884_fix_code_RB_SF_JPEG_85/inception_model/inception_modules_2/conv2d/BiasAdd:0\", shape=(?, 1024, 1920, 64), dtype=float32)\n",
      "Tensor(\"Decomp_NN_884_fix_code_RB_SF_JPEG_85/inception_model/inception_modules_2/batch_normalization/FusedBatchNorm:0\", shape=(?, 1024, 1920, 64), dtype=float32)\n",
      "Tensor(\"Decomp_NN_884_fix_code_RB_SF_JPEG_85/inception_model/inception_modules_2/conv2d_1/BiasAdd:0\", shape=(?, 1024, 1920, 32), dtype=float32)\n",
      "Tensor(\"Decomp_NN_884_fix_code_RB_SF_JPEG_85/inception_model/inception_modules_2/batch_normalization_1/FusedBatchNorm:0\", shape=(?, 1024, 1920, 32), dtype=float32)\n",
      "Tensor(\"Decomp_NN_884_fix_code_RB_SF_JPEG_85/inception_model/inception_modules_2/Add:0\", shape=(?, 1024, 1920, 96), dtype=float32)\n",
      "Tensor(\"Decomp_NN_884_fix_code_RB_SF_JPEG_85/inception_model/inception_modules_2/LeakyRelu/Maximum:0\", shape=(?, 1024, 1920, 96), dtype=float32)\n",
      "Tensor(\"Decomp_NN_884_fix_code_RB_SF_JPEG_85/inception_model/inception_modules_3/conv2d/BiasAdd:0\", shape=(?, 1024, 1920, 64), dtype=float32)\n",
      "Tensor(\"Decomp_NN_884_fix_code_RB_SF_JPEG_85/inception_model/inception_modules_3/batch_normalization/FusedBatchNorm:0\", shape=(?, 1024, 1920, 64), dtype=float32)\n",
      "Tensor(\"Decomp_NN_884_fix_code_RB_SF_JPEG_85/inception_model/inception_modules_3/conv2d_1/BiasAdd:0\", shape=(?, 1024, 1920, 32), dtype=float32)\n",
      "Tensor(\"Decomp_NN_884_fix_code_RB_SF_JPEG_85/inception_model/inception_modules_3/batch_normalization_1/FusedBatchNorm:0\", shape=(?, 1024, 1920, 32), dtype=float32)\n",
      "Tensor(\"Decomp_NN_884_fix_code_RB_SF_JPEG_85/inception_model/inception_modules_3/Add:0\", shape=(?, 1024, 1920, 96), dtype=float32)\n",
      "Tensor(\"Decomp_NN_884_fix_code_RB_SF_JPEG_85/inception_model/inception_modules_3/LeakyRelu/Maximum:0\", shape=(?, 1024, 1920, 96), dtype=float32)\n",
      "Tensor(\"Decomp_NN_884_fix_code_RB_SF_JPEG_85/inception_model/inception_modules_4/conv2d/BiasAdd:0\", shape=(?, 1024, 1920, 64), dtype=float32)\n",
      "Tensor(\"Decomp_NN_884_fix_code_RB_SF_JPEG_85/inception_model/inception_modules_4/batch_normalization/FusedBatchNorm:0\", shape=(?, 1024, 1920, 64), dtype=float32)\n",
      "Tensor(\"Decomp_NN_884_fix_code_RB_SF_JPEG_85/inception_model/inception_modules_4/conv2d_1/BiasAdd:0\", shape=(?, 1024, 1920, 32), dtype=float32)\n",
      "Tensor(\"Decomp_NN_884_fix_code_RB_SF_JPEG_85/inception_model/inception_modules_4/batch_normalization_1/FusedBatchNorm:0\", shape=(?, 1024, 1920, 32), dtype=float32)\n",
      "Tensor(\"Decomp_NN_884_fix_code_RB_SF_JPEG_85/inception_model/inception_modules_4/Add:0\", shape=(?, 1024, 1920, 96), dtype=float32)\n",
      "Tensor(\"Decomp_NN_884_fix_code_RB_SF_JPEG_85/inception_model/inception_modules_4/LeakyRelu/Maximum:0\", shape=(?, 1024, 1920, 96), dtype=float32)\n",
      "Tensor(\"Decomp_NN_884_fix_code_RB_SF_JPEG_85/inception_model/inception_modules_5/conv2d/BiasAdd:0\", shape=(?, 1024, 1920, 64), dtype=float32)\n",
      "Tensor(\"Decomp_NN_884_fix_code_RB_SF_JPEG_85/inception_model/inception_modules_5/batch_normalization/FusedBatchNorm:0\", shape=(?, 1024, 1920, 64), dtype=float32)\n",
      "Tensor(\"Decomp_NN_884_fix_code_RB_SF_JPEG_85/inception_model/inception_modules_5/conv2d_1/BiasAdd:0\", shape=(?, 1024, 1920, 32), dtype=float32)\n",
      "Tensor(\"Decomp_NN_884_fix_code_RB_SF_JPEG_85/inception_model/inception_modules_5/batch_normalization_1/FusedBatchNorm:0\", shape=(?, 1024, 1920, 32), dtype=float32)\n",
      "Tensor(\"Decomp_NN_884_fix_code_RB_SF_JPEG_85/inception_model/inception_modules_5/Add:0\", shape=(?, 1024, 1920, 96), dtype=float32)\n",
      "Tensor(\"Decomp_NN_884_fix_code_RB_SF_JPEG_85/inception_model/inception_modules_5/LeakyRelu/Maximum:0\", shape=(?, 1024, 1920, 96), dtype=float32)\n",
      "Tensor(\"Decomp_NN_884_fix_code_RB_SF_JPEG_85/inception_model/inception_modules_6/conv2d/BiasAdd:0\", shape=(?, 1024, 1920, 64), dtype=float32)\n",
      "Tensor(\"Decomp_NN_884_fix_code_RB_SF_JPEG_85/inception_model/inception_modules_6/batch_normalization/FusedBatchNorm:0\", shape=(?, 1024, 1920, 64), dtype=float32)\n",
      "Tensor(\"Decomp_NN_884_fix_code_RB_SF_JPEG_85/inception_model/inception_modules_6/conv2d_1/BiasAdd:0\", shape=(?, 1024, 1920, 32), dtype=float32)\n",
      "Tensor(\"Decomp_NN_884_fix_code_RB_SF_JPEG_85/inception_model/inception_modules_6/batch_normalization_1/FusedBatchNorm:0\", shape=(?, 1024, 1920, 32), dtype=float32)\n",
      "Tensor(\"Decomp_NN_884_fix_code_RB_SF_JPEG_85/inception_model/inception_modules_6/Add:0\", shape=(?, 1024, 1920, 96), dtype=float32)\n",
      "Tensor(\"Decomp_NN_884_fix_code_RB_SF_JPEG_85/inception_model/inception_modules_6/LeakyRelu/Maximum:0\", shape=(?, 1024, 1920, 96), dtype=float32)\n",
      "Tensor(\"Decomp_NN_884_fix_code_RB_SF_JPEG_85/inception_model/inception_modules_7/conv2d/BiasAdd:0\", shape=(?, 1024, 1920, 64), dtype=float32)\n",
      "Tensor(\"Decomp_NN_884_fix_code_RB_SF_JPEG_85/inception_model/inception_modules_7/batch_normalization/FusedBatchNorm:0\", shape=(?, 1024, 1920, 64), dtype=float32)\n",
      "Tensor(\"Decomp_NN_884_fix_code_RB_SF_JPEG_85/inception_model/inception_modules_7/conv2d_1/BiasAdd:0\", shape=(?, 1024, 1920, 32), dtype=float32)\n",
      "Tensor(\"Decomp_NN_884_fix_code_RB_SF_JPEG_85/inception_model/inception_modules_7/batch_normalization_1/FusedBatchNorm:0\", shape=(?, 1024, 1920, 32), dtype=float32)\n",
      "Tensor(\"Decomp_NN_884_fix_code_RB_SF_JPEG_85/inception_model/inception_modules_7/Add:0\", shape=(?, 1024, 1920, 96), dtype=float32)\n",
      "Tensor(\"Decomp_NN_884_fix_code_RB_SF_JPEG_85/inception_model/inception_modules_7/LeakyRelu/Maximum:0\", shape=(?, 1024, 1920, 96), dtype=float32)\n",
      "Tensor(\"Decomp_NN_884_fix_code_RB_SF_JPEG_85/inception_model/LeakyRelu_1/Maximum:0\", shape=(?, 1024, 1920, 96), dtype=float32)\n",
      "Tensor(\"Decomp_NN_884_fix_code_RB_SF_JPEG_85/inception_model/concat_1:0\", shape=(?, 1024, 1920, 192), dtype=float32)\n",
      "Tensor(\"Decomp_NN_884_fix_code_RB_SF_JPEG_85/inception_model/conv2d_3/Tanh:0\", shape=(?, 1024, 1920, 1), dtype=float32)\n",
      "\n",
      "recon: Tensor(\"Decomp_NN_884_fix_code_RB_SF_JPEG_85/inception_model/conv2d_3/Tanh:0\", shape=(?, 1024, 1920, 1), dtype=float32)\n"
     ]
    }
   ],
   "source": [
    "recon=recon_NN(compf32, NC, block_size, stride_size)\n",
    "print(\"\\nrecon: \" + str(recon))"
   ]
  },
  {
   "cell_type": "code",
   "execution_count": 7,
   "metadata": {},
   "outputs": [],
   "source": [
    "trained_model = './model_884_4bit_fix_code_RB_SF_JPEG_85/model_200000.ckpt-200001'\n",
    "saver = tf.train.Saver()"
   ]
  },
  {
   "cell_type": "code",
   "execution_count": 8,
   "metadata": {},
   "outputs": [],
   "source": [
    "def run_recon(data_in):\n",
    "    with tf.Session() as sess:\n",
    "        saver.restore(sess,trained_model)\n",
    "        dip=sess.run(recon,feed_dict={compf32:data_in})\n",
    "            \n",
    "    return dip"
   ]
  },
  {
   "cell_type": "code",
   "execution_count": 9,
   "metadata": {},
   "outputs": [],
   "source": [
    "def read_COMPINT_JPEG(j_name):\n",
    "    o4=np.zeros([1, int(nx*2), int(ny*2), ncomp])\n",
    "    for k in range(ncomp):\n",
    "        inname = j_name + \"_C_\" + str(k) + \".jpeg\"\n",
    "        #print(\"  Input: \" + inname)\n",
    "        tim=Image.open(inname)\n",
    "        tima=np.array(tim)\n",
    "        o4[0,:,:,k] = tima\n",
    "        \n",
    "    o4 = (o4-128.)/(sc_int*Q_scale)\n",
    "    o4 = o4.astype(np.float32)\n",
    "        \n",
    "    return o4"
   ]
  },
  {
   "cell_type": "code",
   "execution_count": 10,
   "metadata": {},
   "outputs": [],
   "source": [
    "def read_raw_data(r_name):\n",
    "    xs=0; ys=0\n",
    "    xe=xs+2048; ye=ys+3840\n",
    "    pop=np.fromfile(r_name,dtype=np.dtype('i2'))\n",
    "    pop=pop[0:3864*2174]\n",
    "    \n",
    "    pop=np.reshape(pop,(2174,3864))\n",
    "    pop=np.rot90(np.rot90(pop))  #For 1, 2, comment out if running 3\n",
    "    \n",
    "    pop=pop[xs:xe,ys:ye]\n",
    "    #pop=np.rot90(np.rot90(pop))  #For 3, comment out if running 1, 2\n",
    "    \n",
    "    pop=pop/(np.power(2,14)-1.)\n",
    "    \n",
    "    return pop"
   ]
  },
  {
   "cell_type": "code",
   "execution_count": 11,
   "metadata": {},
   "outputs": [],
   "source": [
    "def write_hdf5(x,filename):\n",
    "    with h5py.File(filename, 'w') as h:\n",
    "        h.create_dataset('data', data=x, shape=x.shape)"
   ]
  },
  {
   "cell_type": "code",
   "execution_count": 12,
   "metadata": {},
   "outputs": [
    {
     "name": "stdout",
     "output_type": "stream",
     "text": [
      "0 cxs= 0 , cys= 0\n",
      "1 cxs= 128 , cys= 0\n",
      "2 cxs= 0 , cys= 240\n",
      "3 cxs= 128 , cys= 240\n"
     ]
    }
   ],
   "source": [
    "cxs_s={}; cys_s={};\n",
    "\n",
    "cxs_s[0]=0; cys_s[0]=0\n",
    "cxs_s[1]=nx; cys_s[1]=0\n",
    "cxs_s[2]=0; cys_s[2]=ny\n",
    "cxs_s[3]=nx; cys_s[3]=ny\n",
    "\n",
    "for i in range(4):\n",
    "    print(str(i) + \" cxs= \" + str(cxs_s[i]) + \" , cys= \" + str(cys_s[i]))"
   ]
  },
  {
   "cell_type": "code",
   "execution_count": 13,
   "metadata": {},
   "outputs": [
    {
     "name": "stdout",
     "output_type": "stream",
     "text": [
      "0 xs= 0 , ys= 0\n",
      "1 xs= 1024 , ys= 0\n",
      "2 xs= 0 , ys= 1920\n",
      "3 xs= 1024 , ys= 1920\n"
     ]
    }
   ],
   "source": [
    "xs_s={}; ys_s={};\n",
    "Nx=1024; Ny=1920\n",
    "\n",
    "xs_s[0]=0; ys_s[0]=0\n",
    "xs_s[1]=Nx; ys_s[1]=0\n",
    "xs_s[2]=0; ys_s[2]=Ny\n",
    "xs_s[3]=Nx; ys_s[3]=Ny\n",
    "\n",
    "for i in range(4):\n",
    "    print(str(i) + \" xs= \" + str(xs_s[i]) + \" , ys= \" + str(ys_s[i]))"
   ]
  },
  {
   "cell_type": "code",
   "execution_count": 14,
   "metadata": {},
   "outputs": [],
   "source": [
    "def big_frame_recon(data_in):\n",
    "    Dips={}\n",
    "    for i in range(4):\n",
    "        cxs=cxs_s[i]; cxe=cxs+nx\n",
    "        cys=cys_s[i]; cye=cys+ny\n",
    "        c_f=np.zeros([1,nx,ny,ncomp])\n",
    "        c_f[0,:,:,:]=data_in[0,cxs:cxe,cys:cye,:]\n",
    "        Dips[i]=run_recon(c_f)\n",
    "        \n",
    "    shape_o=[1, int(Nx*2), int(Ny*2), 1]\n",
    "    Dip=np.zeros(shape_o)\n",
    "    for i in range(4):\n",
    "        xs=xs_s[i]; xe=xs+Nx\n",
    "        ys=ys_s[i]; ye=ys+Ny\n",
    "        Dip[0,xs:xe,ys:ye,0]=Dips[i][0,:,:,0]\n",
    "        \n",
    "    return Dip"
   ]
  },
  {
   "cell_type": "code",
   "execution_count": 15,
   "metadata": {},
   "outputs": [],
   "source": [
    "fileName='../Example_raw_bayer_data/1.raw'\n",
    "\n",
    "jpname = './tmp_COMPINT'"
   ]
  },
  {
   "cell_type": "code",
   "execution_count": 16,
   "metadata": {},
   "outputs": [],
   "source": [
    "t_raw = read_raw_data(fileName)"
   ]
  },
  {
   "cell_type": "code",
   "execution_count": 17,
   "metadata": {},
   "outputs": [
    {
     "name": "stdout",
     "output_type": "stream",
     "text": [
      "  t_raw shape= (2048, 3840) , max= 0.9999389611182323 , min= 0.05273759384728072 , mean= 0.27559552881423693\n"
     ]
    }
   ],
   "source": [
    "print(\"  t_raw shape= \" + str(t_raw.shape) + \" , max= \" + str(np.max(t_raw)) \n",
    "        + \" , min= \" + str(np.min(t_raw)) + \" , mean= \" + str(np.mean(t_raw)))"
   ]
  },
  {
   "cell_type": "code",
   "execution_count": 18,
   "metadata": {},
   "outputs": [],
   "source": [
    "t_jpeg = read_COMPINT_JPEG(jpname)"
   ]
  },
  {
   "cell_type": "code",
   "execution_count": 19,
   "metadata": {},
   "outputs": [
    {
     "name": "stdout",
     "output_type": "stream",
     "text": [
      "  t_jpeg shape= (1, 256, 480, 4) , max= 3.3043478 , min= -2.5217392 , mean= 0.5308596\n"
     ]
    }
   ],
   "source": [
    "print(\"  t_jpeg shape= \" + str(t_jpeg.shape) + \" , max= \" + str(np.max(t_jpeg)) \n",
    "        + \" , min= \" + str(np.min(t_jpeg)) + \" , mean= \" + str(np.mean(t_jpeg)))"
   ]
  },
  {
   "cell_type": "code",
   "execution_count": 20,
   "metadata": {},
   "outputs": [
    {
     "name": "stdout",
     "output_type": "stream",
     "text": [
      "INFO:tensorflow:Restoring parameters from ./model_884_4bit_fix_code_RB_SF_JPEG_85/model_200000.ckpt-200001\n",
      "INFO:tensorflow:Restoring parameters from ./model_884_4bit_fix_code_RB_SF_JPEG_85/model_200000.ckpt-200001\n",
      "INFO:tensorflow:Restoring parameters from ./model_884_4bit_fix_code_RB_SF_JPEG_85/model_200000.ckpt-200001\n",
      "INFO:tensorflow:Restoring parameters from ./model_884_4bit_fix_code_RB_SF_JPEG_85/model_200000.ckpt-200001\n"
     ]
    }
   ],
   "source": [
    "r_raw = big_frame_recon(t_jpeg)"
   ]
  },
  {
   "cell_type": "code",
   "execution_count": 21,
   "metadata": {},
   "outputs": [
    {
     "name": "stdout",
     "output_type": "stream",
     "text": [
      "mse= 0.00023510102263140197\n",
      "\n"
     ]
    }
   ],
   "source": [
    "mse=np.mean(np.square(r_raw[0,:,:,0]-t_raw))\n",
    "print(\"mse= \" + str(mse) + \"\\n\")"
   ]
  },
  {
   "cell_type": "code",
   "execution_count": 22,
   "metadata": {},
   "outputs": [
    {
     "name": "stdout",
     "output_type": "stream",
     "text": [
      "3 , PSNR= 36.233121428682445 , SSIM= 0.9744634718619178\n"
     ]
    }
   ],
   "source": [
    "output=(r_raw[0,:,:,0]*255).astype('uint8')\n",
    "label=(t_raw*255).astype('uint8')\n",
    "\n",
    "psnr =compare_psnr(output, label)\n",
    "ssim =compare_ssim(output, label, multichannel=False)\n",
    "print(str(i) + \" , PSNR= \" + str(psnr) + \" , SSIM= \" + str(ssim))"
   ]
  },
  {
   "cell_type": "code",
   "execution_count": 23,
   "metadata": {},
   "outputs": [],
   "source": [
    "write_hdf5(r_raw,'image_884_rec_dbl_SF_JPEG85.h5')"
   ]
  },
  {
   "cell_type": "code",
   "execution_count": null,
   "metadata": {},
   "outputs": [],
   "source": []
  }
 ],
 "metadata": {
  "kernelspec": {
   "display_name": "Python 3",
   "language": "python",
   "name": "python3"
  },
  "language_info": {
   "codemirror_mode": {
    "name": "ipython",
    "version": 3
   },
   "file_extension": ".py",
   "mimetype": "text/x-python",
   "name": "python",
   "nbconvert_exporter": "python",
   "pygments_lexer": "ipython3",
   "version": "3.6.5"
  }
 },
 "nbformat": 4,
 "nbformat_minor": 2
}
